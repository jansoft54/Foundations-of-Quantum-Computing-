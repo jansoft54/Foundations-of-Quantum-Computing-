{
 "cells": [
  {
   "cell_type": "code",
   "execution_count": 8,
   "metadata": {},
   "outputs": [
    {
     "name": "stdout",
     "output_type": "stream",
     "text": [
      "Requirement already satisfied: numpy in c:\\users\\ruke\\appdata\\local\\programs\\python\\python312\\lib\\site-packages (2.1.2)\n",
      "Note: you may need to restart the kernel to use updated packages.\n"
     ]
    },
    {
     "name": "stderr",
     "output_type": "stream",
     "text": [
      "\n",
      "[notice] A new release of pip is available: 24.0 -> 24.3.1\n",
      "[notice] To update, run: python.exe -m pip install --upgrade pip\n"
     ]
    },
    {
     "name": "stdout",
     "output_type": "stream",
     "text": [
      "Requirement already satisfied: pandas in c:\\users\\ruke\\appdata\\local\\programs\\python\\python312\\lib\\site-packages (2.2.3)\n",
      "Requirement already satisfied: numpy>=1.26.0 in c:\\users\\ruke\\appdata\\local\\programs\\python\\python312\\lib\\site-packages (from pandas) (2.1.2)\n",
      "Requirement already satisfied: python-dateutil>=2.8.2 in c:\\users\\ruke\\appdata\\roaming\\python\\python312\\site-packages (from pandas) (2.9.0.post0)\n",
      "Requirement already satisfied: pytz>=2020.1 in c:\\users\\ruke\\appdata\\local\\programs\\python\\python312\\lib\\site-packages (from pandas) (2024.2)\n",
      "Requirement already satisfied: tzdata>=2022.7 in c:\\users\\ruke\\appdata\\local\\programs\\python\\python312\\lib\\site-packages (from pandas) (2024.2)\n",
      "Requirement already satisfied: six>=1.5 in c:\\users\\ruke\\appdata\\roaming\\python\\python312\\site-packages (from python-dateutil>=2.8.2->pandas) (1.16.0)\n",
      "Note: you may need to restart the kernel to use updated packages.\n"
     ]
    },
    {
     "name": "stderr",
     "output_type": "stream",
     "text": [
      "\n",
      "[notice] A new release of pip is available: 24.0 -> 24.3.1\n",
      "[notice] To update, run: python.exe -m pip install --upgrade pip\n"
     ]
    }
   ],
   "source": [
    "%pip install numpy\n",
    "%pip install pandas\n",
    "\n",
    "\n",
    "import numpy as np\n",
    "import numpy.typing as npt\n",
    "import pandas as pd\n"
   ]
  },
  {
   "cell_type": "markdown",
   "metadata": {},
   "source": [
    "Exercise 1 Haddamard Matrix\n"
   ]
  },
  {
   "cell_type": "code",
   "execution_count": 9,
   "metadata": {},
   "outputs": [
    {
     "name": "stdout",
     "output_type": "stream",
     "text": [
      "[[1.]]\n",
      "[[ 0.70710678  0.70710678]\n",
      " [ 0.70710678 -0.70710678]]\n",
      "[[ 0.5  0.5  0.5  0.5]\n",
      " [ 0.5 -0.5  0.5 -0.5]\n",
      " [ 0.5  0.5 -0.5 -0.5]\n",
      " [ 0.5 -0.5 -0.5  0.5]]\n",
      "[[ 0.35355339  0.35355339  0.35355339  0.35355339  0.35355339  0.35355339\n",
      "   0.35355339  0.35355339]\n",
      " [ 0.35355339 -0.35355339  0.35355339 -0.35355339  0.35355339 -0.35355339\n",
      "   0.35355339 -0.35355339]\n",
      " [ 0.35355339  0.35355339 -0.35355339 -0.35355339  0.35355339  0.35355339\n",
      "  -0.35355339 -0.35355339]\n",
      " [ 0.35355339 -0.35355339 -0.35355339  0.35355339  0.35355339 -0.35355339\n",
      "  -0.35355339  0.35355339]\n",
      " [ 0.35355339  0.35355339  0.35355339  0.35355339 -0.35355339 -0.35355339\n",
      "  -0.35355339 -0.35355339]\n",
      " [ 0.35355339 -0.35355339  0.35355339 -0.35355339 -0.35355339  0.35355339\n",
      "  -0.35355339  0.35355339]\n",
      " [ 0.35355339  0.35355339 -0.35355339 -0.35355339 -0.35355339 -0.35355339\n",
      "   0.35355339  0.35355339]\n",
      " [ 0.35355339 -0.35355339 -0.35355339  0.35355339 -0.35355339  0.35355339\n",
      "   0.35355339 -0.35355339]]\n",
      "[[ 0.25  0.25  0.25  0.25  0.25  0.25  0.25  0.25  0.25  0.25  0.25  0.25\n",
      "   0.25  0.25  0.25  0.25]\n",
      " [ 0.25 -0.25  0.25 -0.25  0.25 -0.25  0.25 -0.25  0.25 -0.25  0.25 -0.25\n",
      "   0.25 -0.25  0.25 -0.25]\n",
      " [ 0.25  0.25 -0.25 -0.25  0.25  0.25 -0.25 -0.25  0.25  0.25 -0.25 -0.25\n",
      "   0.25  0.25 -0.25 -0.25]\n",
      " [ 0.25 -0.25 -0.25  0.25  0.25 -0.25 -0.25  0.25  0.25 -0.25 -0.25  0.25\n",
      "   0.25 -0.25 -0.25  0.25]\n",
      " [ 0.25  0.25  0.25  0.25 -0.25 -0.25 -0.25 -0.25  0.25  0.25  0.25  0.25\n",
      "  -0.25 -0.25 -0.25 -0.25]\n",
      " [ 0.25 -0.25  0.25 -0.25 -0.25  0.25 -0.25  0.25  0.25 -0.25  0.25 -0.25\n",
      "  -0.25  0.25 -0.25  0.25]\n",
      " [ 0.25  0.25 -0.25 -0.25 -0.25 -0.25  0.25  0.25  0.25  0.25 -0.25 -0.25\n",
      "  -0.25 -0.25  0.25  0.25]\n",
      " [ 0.25 -0.25 -0.25  0.25 -0.25  0.25  0.25 -0.25  0.25 -0.25 -0.25  0.25\n",
      "  -0.25  0.25  0.25 -0.25]\n",
      " [ 0.25  0.25  0.25  0.25  0.25  0.25  0.25  0.25 -0.25 -0.25 -0.25 -0.25\n",
      "  -0.25 -0.25 -0.25 -0.25]\n",
      " [ 0.25 -0.25  0.25 -0.25  0.25 -0.25  0.25 -0.25 -0.25  0.25 -0.25  0.25\n",
      "  -0.25  0.25 -0.25  0.25]\n",
      " [ 0.25  0.25 -0.25 -0.25  0.25  0.25 -0.25 -0.25 -0.25 -0.25  0.25  0.25\n",
      "  -0.25 -0.25  0.25  0.25]\n",
      " [ 0.25 -0.25 -0.25  0.25  0.25 -0.25 -0.25  0.25 -0.25  0.25  0.25 -0.25\n",
      "  -0.25  0.25  0.25 -0.25]\n",
      " [ 0.25  0.25  0.25  0.25 -0.25 -0.25 -0.25 -0.25 -0.25 -0.25 -0.25 -0.25\n",
      "   0.25  0.25  0.25  0.25]\n",
      " [ 0.25 -0.25  0.25 -0.25 -0.25  0.25 -0.25  0.25 -0.25  0.25 -0.25  0.25\n",
      "   0.25 -0.25  0.25 -0.25]\n",
      " [ 0.25  0.25 -0.25 -0.25 -0.25 -0.25  0.25  0.25 -0.25 -0.25  0.25  0.25\n",
      "   0.25  0.25 -0.25 -0.25]\n",
      " [ 0.25 -0.25 -0.25  0.25 -0.25  0.25  0.25 -0.25 -0.25  0.25  0.25 -0.25\n",
      "   0.25 -0.25 -0.25  0.25]]\n"
     ]
    }
   ],
   "source": [
    "\n",
    "H1 = np.array([[1, 1],\n",
    "               [1, -1]])\n",
    "\n",
    "def Hadamard_unnormalized(n: int):\n",
    "    if n == 0:\n",
    "        return np.array([[1]])\n",
    "    if n == 1:\n",
    "        return H1\n",
    "\n",
    "    return np.kron(H1, Hadamard_unnormalized(n - 1))\n",
    "\n",
    "def Hadamard(n: int):\n",
    "    unnormalized_H = Hadamard_unnormalized(n)\n",
    "    normalization_factor = 1 / np.sqrt(2**n)\n",
    "    return normalization_factor * unnormalized_H\n",
    "\n",
    "\n",
    "for i in range(5):\n",
    "    print(Hadamard(i))"
   ]
  },
  {
   "cell_type": "code",
   "execution_count": 10,
   "metadata": {},
   "outputs": [
    {
     "name": "stdout",
     "output_type": "stream",
     "text": [
      "(8, 3)\n"
     ]
    },
    {
     "data": {
      "text/html": [
       "<div>\n",
       "<style scoped>\n",
       "    .dataframe tbody tr th:only-of-type {\n",
       "        vertical-align: middle;\n",
       "    }\n",
       "\n",
       "    .dataframe tbody tr th {\n",
       "        vertical-align: top;\n",
       "    }\n",
       "\n",
       "    .dataframe thead th {\n",
       "        text-align: right;\n",
       "    }\n",
       "</style>\n",
       "<table border=\"1\" class=\"dataframe\">\n",
       "  <thead>\n",
       "    <tr style=\"text-align: right;\">\n",
       "      <th></th>\n",
       "      <th>Original y</th>\n",
       "      <th>Predicted y_hat</th>\n",
       "    </tr>\n",
       "  </thead>\n",
       "  <tbody>\n",
       "    <tr>\n",
       "      <th>0</th>\n",
       "      <td>1</td>\n",
       "      <td>0.0</td>\n",
       "    </tr>\n",
       "    <tr>\n",
       "      <th>1</th>\n",
       "      <td>-1</td>\n",
       "      <td>-1.0</td>\n",
       "    </tr>\n",
       "    <tr>\n",
       "      <th>2</th>\n",
       "      <td>-1</td>\n",
       "      <td>-1.0</td>\n",
       "    </tr>\n",
       "    <tr>\n",
       "      <th>3</th>\n",
       "      <td>-1</td>\n",
       "      <td>0.0</td>\n",
       "    </tr>\n",
       "    <tr>\n",
       "      <th>4</th>\n",
       "      <td>-1</td>\n",
       "      <td>-1.0</td>\n",
       "    </tr>\n",
       "    <tr>\n",
       "      <th>5</th>\n",
       "      <td>-1</td>\n",
       "      <td>0.0</td>\n",
       "    </tr>\n",
       "    <tr>\n",
       "      <th>6</th>\n",
       "      <td>-1</td>\n",
       "      <td>0.0</td>\n",
       "    </tr>\n",
       "    <tr>\n",
       "      <th>7</th>\n",
       "      <td>1</td>\n",
       "      <td>0.0</td>\n",
       "    </tr>\n",
       "  </tbody>\n",
       "</table>\n",
       "</div>"
      ],
      "text/plain": [
       "   Original y  Predicted y_hat\n",
       "0           1              0.0\n",
       "1          -1             -1.0\n",
       "2          -1             -1.0\n",
       "3          -1              0.0\n",
       "4          -1             -1.0\n",
       "5          -1              0.0\n",
       "6          -1              0.0\n",
       "7           1              0.0"
      ]
     },
     "execution_count": 10,
     "metadata": {},
     "output_type": "execute_result"
    }
   ],
   "source": [
    "def solve_least_squares(XT_psi, y_rule):\n",
    "    w_star, _, _, _ = np.linalg.lstsq(XT_psi, y_rule, rcond=None)\n",
    "    y_hat = XT_psi @ w_star\n",
    "    return pd.DataFrame({\"Original y\": y_rule, \"Predicted y_hat\": y_hat})\n",
    "\n",
    "XT = np.array([\n",
    "    [+1, +1, +1],\n",
    "    [+1, +1, -1],\n",
    "    [+1, -1, +1],\n",
    "    [+1, -1, -1],\n",
    "    [-1, +1, +1],\n",
    "    [-1, +1, -1],\n",
    "    [-1, -1, +1],\n",
    "    [-1, -1, -1]\n",
    "])\n",
    "print(XT.shape)\n",
    "y_rule_110 = np.array([+1, -1, -1, -1, +1, -1, -1, +1])\n",
    "\n",
    "y_rule_126 = np.array([+1, -1, -1, -1, -1, -1, -1, +1])\n",
    "\n",
    "HT = Hadamard(3) @ XT\n",
    "\n",
    "solve_least_squares(HT, y_rule_110)\n",
    "\n",
    "\n",
    "solve_least_squares(HT, y_rule_126)"
   ]
  },
  {
   "cell_type": "code",
   "execution_count": 11,
   "metadata": {},
   "outputs": [
    {
     "name": "stdout",
     "output_type": "stream",
     "text": [
      "[[1.]]\n",
      "[[ 1.00000000e+00 -2.23711432e-17]\n",
      " [-2.23711432e-17  1.00000000e+00]]\n",
      "[[1. 0. 0. 0.]\n",
      " [0. 1. 0. 0.]\n",
      " [0. 0. 1. 0.]\n",
      " [0. 0. 0. 1.]]\n",
      "[[ 1.00000000e+00 -5.59278579e-18 -5.59278579e-18 -8.28500202e-18\n",
      "   2.21627898e-17 -8.28500202e-18 -2.21627898e-17 -5.59278579e-18]\n",
      " [-5.59278579e-18  1.00000000e+00 -8.28500202e-18 -5.59278579e-18\n",
      "  -8.28500202e-18  2.21627898e-17 -5.59278579e-18 -2.21627898e-17]\n",
      " [-5.59278579e-18 -8.28500202e-18  1.00000000e+00 -5.59278579e-18\n",
      "  -2.21627898e-17 -5.59278579e-18  2.21627898e-17 -8.28500202e-18]\n",
      " [-8.28500202e-18 -5.59278579e-18 -5.59278579e-18  1.00000000e+00\n",
      "  -5.59278579e-18 -2.21627898e-17 -8.28500202e-18  2.21627898e-17]\n",
      " [ 2.21627898e-17 -8.28500202e-18 -2.21627898e-17 -5.59278579e-18\n",
      "   1.00000000e+00 -5.59278579e-18 -5.59278579e-18 -8.28500202e-18]\n",
      " [-8.28500202e-18  2.21627898e-17 -5.59278579e-18 -2.21627898e-17\n",
      "  -5.59278579e-18  1.00000000e+00 -8.28500202e-18 -5.59278579e-18]\n",
      " [-2.21627898e-17 -5.59278579e-18  2.21627898e-17 -8.28500202e-18\n",
      "  -5.59278579e-18 -8.28500202e-18  1.00000000e+00 -5.59278579e-18]\n",
      " [-5.59278579e-18 -2.21627898e-17 -8.28500202e-18  2.21627898e-17\n",
      "  -8.28500202e-18 -5.59278579e-18 -5.59278579e-18  1.00000000e+00]]\n",
      "[[1. 0. 0. 0. 0. 0. 0. 0. 0. 0. 0. 0. 0. 0. 0. 0.]\n",
      " [0. 1. 0. 0. 0. 0. 0. 0. 0. 0. 0. 0. 0. 0. 0. 0.]\n",
      " [0. 0. 1. 0. 0. 0. 0. 0. 0. 0. 0. 0. 0. 0. 0. 0.]\n",
      " [0. 0. 0. 1. 0. 0. 0. 0. 0. 0. 0. 0. 0. 0. 0. 0.]\n",
      " [0. 0. 0. 0. 1. 0. 0. 0. 0. 0. 0. 0. 0. 0. 0. 0.]\n",
      " [0. 0. 0. 0. 0. 1. 0. 0. 0. 0. 0. 0. 0. 0. 0. 0.]\n",
      " [0. 0. 0. 0. 0. 0. 1. 0. 0. 0. 0. 0. 0. 0. 0. 0.]\n",
      " [0. 0. 0. 0. 0. 0. 0. 1. 0. 0. 0. 0. 0. 0. 0. 0.]\n",
      " [0. 0. 0. 0. 0. 0. 0. 0. 1. 0. 0. 0. 0. 0. 0. 0.]\n",
      " [0. 0. 0. 0. 0. 0. 0. 0. 0. 1. 0. 0. 0. 0. 0. 0.]\n",
      " [0. 0. 0. 0. 0. 0. 0. 0. 0. 0. 1. 0. 0. 0. 0. 0.]\n",
      " [0. 0. 0. 0. 0. 0. 0. 0. 0. 0. 0. 1. 0. 0. 0. 0.]\n",
      " [0. 0. 0. 0. 0. 0. 0. 0. 0. 0. 0. 0. 1. 0. 0. 0.]\n",
      " [0. 0. 0. 0. 0. 0. 0. 0. 0. 0. 0. 0. 0. 1. 0. 0.]\n",
      " [0. 0. 0. 0. 0. 0. 0. 0. 0. 0. 0. 0. 0. 0. 1. 0.]\n",
      " [0. 0. 0. 0. 0. 0. 0. 0. 0. 0. 0. 0. 0. 0. 0. 1.]]\n"
     ]
    }
   ],
   "source": [
    "\n",
    "def self_conj(A):\n",
    "    return np.conj(A) @ A\n",
    "\n",
    "for i in range(5):\n",
    "    print(self_conj(Hadamard(i)))    "
   ]
  },
  {
   "cell_type": "markdown",
   "metadata": {},
   "source": [
    "findings:\n",
    "Only elements on the diagonal are 1, rest is 0.\n",
    "Aka we have orthonormal basis vectors here\n",
    "I think this implies that its an isomorphism thus every 2^d vector can be uniquely transformed.\n"
   ]
  },
  {
   "cell_type": "code",
   "execution_count": 12,
   "metadata": {},
   "outputs": [
    {
     "name": "stdout",
     "output_type": "stream",
     "text": [
      "[-0.70710678  0.70710678  0.70710678  2.12132034 -0.70710678  0.70710678\n",
      "  0.70710678 -0.70710678]\n",
      "   Original y  Predicted y_hat\n",
      "0   -0.707107         0.000000\n",
      "1    0.707107         0.707107\n",
      "2    0.707107         0.707107\n",
      "3    2.121320         0.000000\n",
      "4   -0.707107        -0.707107\n",
      "5    0.707107         0.000000\n",
      "6    0.707107         0.000000\n",
      "7   -0.707107         0.000000\n"
     ]
    }
   ],
   "source": [
    "# H_dagger and H are the same since we're dealing with real values\n",
    "\n",
    "y_110_transform = Hadamard(3) @ y_rule_110\n",
    "print(y_110_transform)\n",
    "\n",
    "XT_Hadamardtransformed = Hadamard(3) @ XT\n",
    "\n",
    "\n",
    "w_star, _, _, _ = np.linalg.lstsq(XT_Hadamardtransformed, y_110_transform, rcond=None)\n",
    "y_hat = XT_Hadamardtransformed @ w_star\n",
    "print(pd.DataFrame({\"Original y\": y_110_transform, \"Predicted y_hat\": y_hat}))\n",
    "\n"
   ]
  }
 ],
 "metadata": {
  "kernelspec": {
   "display_name": "Python 3",
   "language": "python",
   "name": "python3"
  },
  "language_info": {
   "codemirror_mode": {
    "name": "ipython",
    "version": 3
   },
   "file_extension": ".py",
   "mimetype": "text/x-python",
   "name": "python",
   "nbconvert_exporter": "python",
   "pygments_lexer": "ipython3",
   "version": "3.12.2"
  }
 },
 "nbformat": 4,
 "nbformat_minor": 2
}
