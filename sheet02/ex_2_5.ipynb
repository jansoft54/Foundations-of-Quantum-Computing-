{
 "cells": [
  {
   "cell_type": "code",
   "execution_count": 7,
   "metadata": {},
   "outputs": [
    {
     "name": "stdout",
     "output_type": "stream",
     "text": [
      "[1. 1. 2. 2. 3. 3. 6. 6.]\n",
      "[ 1.  1.  2.  2.  3.  3.  6.  6.  4.  4.  8.  8. 12. 12. 24. 24.]\n"
     ]
    }
   ],
   "source": [
    "import numpy as np\n",
    "\n",
    "def phi(x):\n",
    "    # first we flip the array because the input is in reverse order\n",
    "    x = np.flip(x, axis=0)\n",
    "    n = len(x)\n",
    "    # we create an array of 2^n elements which will be out end result\n",
    "    y = np.zeros(2 ** n)\n",
    "    for i in range(len(y)):\n",
    "        # first we convert the index to binary with n digits\n",
    "        b = np.binary_repr(i, width=n)\n",
    "        # then we calculate the product of x[j] ^ b[j] for all j in range(n), which is the iths element of the result\n",
    "        y[i] = np.prod([x[j] ** int(b[j]) for j in range(len(b))])\n",
    "    return y\n",
    "\n",
    "# test for 3 digits\n",
    "x = np.array([1, 2, 3])\n",
    "result = phi(x)\n",
    "print(result)\n",
    "\n",
    "# test for 4 digits\n",
    "x = np.array([1, 2, 3, 4])\n",
    "result = phi(x)\n",
    "print(result)"
   ]
  }
 ],
 "metadata": {
  "kernelspec": {
   "display_name": "Python 3",
   "language": "python",
   "name": "python3"
  },
  "language_info": {
   "codemirror_mode": {
    "name": "ipython",
    "version": 3
   },
   "file_extension": ".py",
   "mimetype": "text/x-python",
   "name": "python",
   "nbconvert_exporter": "python",
   "pygments_lexer": "ipython3",
   "version": "3.10.8"
  }
 },
 "nbformat": 4,
 "nbformat_minor": 2
}
