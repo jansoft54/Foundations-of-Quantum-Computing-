{
 "cells": [
  {
   "cell_type": "code",
   "execution_count": 3,
   "metadata": {},
   "outputs": [
    {
     "name": "stdout",
     "output_type": "stream",
     "text": [
      "[1. 1. 2. 2. 3. 3. 6. 6.]\n",
      "[ 1.  1.  2.  2.  3.  3.  6.  6.  4.  4.  8.  8. 12. 12. 24. 24.]\n"
     ]
    }
   ],
   "source": [
    "import numpy as np\n",
    "\n",
    "def phi(x):\n",
    "    # first we flip the array because the input is in reverse order\n",
    "    x = np.flip(x, axis=0)\n",
    "    n = len(x)\n",
    "    # we create an array of 2^n elements which will be out end result\n",
    "    y = np.zeros(2 ** n)\n",
    "    for i in range(len(y)):\n",
    "        # first we convert the index to binary with n digits\n",
    "        b = np.binary_repr(i, width=n)\n",
    "        # then we calculate the product of x[j] ^ b[j] for all j in range(n), which is the iths element of the result\n",
    "        y[i] = np.prod([x[j] ** int(b[j]) for j in range(len(b))])\n",
    "    return y\n",
    "\n",
    "# test for 3 digits\n",
    "x = np.array([1, 2, 3])\n",
    "result = phi(x)\n",
    "print(result)\n",
    "\n",
    "# test for 4 digits\n",
    "x = np.array([1, 2, 3, 4])\n",
    "result = phi(x)\n",
    "print(result)"
   ]
  },
  {
   "cell_type": "markdown",
   "metadata": {},
   "source": [
    "**Note**: There is a very compelling solution to this task which involves the [Kronecker product](https://en.wikipedia.org/wiki/Kronecker_product) “⊗”. Yet, this solution requires creative out-of-the-box thinking. If you can discover this solution and successfully implement it using `numpy.kron`, you will be awarded **5 additional points**.\n"
   ]
  },
  {
   "cell_type": "markdown",
   "metadata": {},
   "source": [
    "We define three new vectors:\n",
    "\n",
    "- $\\bar{x_1} = [x_1^0 x_1^1]^T$\n",
    "- $\\bar{x_2} = [x_2^0 x_2^1]^T$\n",
    "- $\\bar{x_3} = [x_3^0 x_3^1]^T$\n",
    "\n",
    "Then we can easily calculate the **Kronecker prodruct** of $\\bar{x_3}⊗\\bar{x_2}⊗\\bar{x_1}$ using the numpy.kron function. "
   ]
  },
  {
   "cell_type": "markdown",
   "metadata": {},
   "source": []
  },
  {
   "cell_type": "code",
   "execution_count": 11,
   "metadata": {},
   "outputs": [
    {
     "name": "stdout",
     "output_type": "stream",
     "text": [
      "Input x = [1 2 3]: \n",
      " [[1]\n",
      " [1]\n",
      " [2]\n",
      " [2]\n",
      " [3]\n",
      " [3]\n",
      " [6]\n",
      " [6]]\n",
      "\n",
      "Input x = [1 2 3 4]: \n",
      " [[ 1]\n",
      " [ 1]\n",
      " [ 2]\n",
      " [ 2]\n",
      " [ 3]\n",
      " [ 3]\n",
      " [ 6]\n",
      " [ 6]\n",
      " [ 4]\n",
      " [ 4]\n",
      " [ 8]\n",
      " [ 8]\n",
      " [12]\n",
      " [12]\n",
      " [24]\n",
      " [24]]\n"
     ]
    }
   ],
   "source": [
    "def kronecker_product_variable_length(x):\n",
    "    x_bars = [np.array([elem**0, elem**1]).reshape(-1, 1) for elem in x]\n",
    "    \n",
    "    # Compute the Kronecker product starting from the last element to the first\n",
    "    result = x_bars[-1]\n",
    "    for x_bar in reversed(x_bars[:-1]):\n",
    "        result = np.kron(result, x_bar)\n",
    "    \n",
    "    return result\n",
    "\n",
    "\n",
    "x = np.array([1, 2, 3])\n",
    "result = kronecker_product_variable_length(x)\n",
    "print(f'Input x = {x}: \\n {result}')\n",
    "\n",
    "x = np.array([1, 2, 3, 4])\n",
    "result = kronecker_product_variable_length(x)\n",
    "print(f'\\nInput x = {x}: \\n {result}')"
   ]
  }
 ],
 "metadata": {
  "kernelspec": {
   "display_name": "quantum",
   "language": "python",
   "name": "python3"
  },
  "language_info": {
   "codemirror_mode": {
    "name": "ipython",
    "version": 3
   },
   "file_extension": ".py",
   "mimetype": "text/x-python",
   "name": "python",
   "nbconvert_exporter": "python",
   "pygments_lexer": "ipython3",
   "version": "3.13.0"
  }
 },
 "nbformat": 4,
 "nbformat_minor": 2
}
