{
 "cells": [
  {
   "cell_type": "code",
   "execution_count": 29,
   "metadata": {},
   "outputs": [],
   "source": [
    "import numpy as np\n"
   ]
  },
  {
   "cell_type": "markdown",
   "metadata": {},
   "source": []
  },
  {
   "cell_type": "code",
   "execution_count": 30,
   "metadata": {},
   "outputs": [
    {
     "name": "stdout",
     "output_type": "stream",
     "text": [
      "[[1 0 0 0]\n",
      " [1 1 0 0]\n",
      " [1 0 1 0]\n",
      " [1 1 1 1]]\n"
     ]
    }
   ],
   "source": [
    "\n",
    "def sierpinski_matrix(n):\n",
    "    if n == 1:\n",
    "        return np.array([[1, 0], [1, 1]])\n",
    "    else:\n",
    "        prev = sierpinski_matrix(n - 1)\n",
    "        return np.kron(np.array([[1, 0], [1, 1]]), prev)\n",
    "\n",
    "print(sierpinski_matrix(2))\n"
   ]
  },
  {
   "cell_type": "markdown",
   "metadata": {},
   "source": [
    "Assuming the additions and mmutiplications are defined as in exercise 2.2"
   ]
  },
  {
   "cell_type": "code",
   "execution_count": 31,
   "metadata": {},
   "outputs": [],
   "source": [
    "# thanks chatgpt for implementing the 2 functions below\n",
    "\n",
    "def boolean_matrix_vector_mult(matrix, vector):\n",
    "    \"\"\"\n",
    "    Performs matrix-vector multiplication in Boolean algebra.\n",
    "    Addition is XOR, and multiplication is binary AND.\n",
    "    \"\"\"\n",
    "    # Ensure inputs are numpy arrays\n",
    "    matrix = np.array(matrix)\n",
    "    vector = np.array(vector)\n",
    "    \n",
    "    # Initialize the result vector with zeros\n",
    "    result = np.zeros(matrix.shape[0], dtype=int)\n",
    "    \n",
    "    # Perform Boolean matrix-vector multiplication\n",
    "    for i in range(matrix.shape[0]):\n",
    "        for j in range(matrix.shape[1]):\n",
    "            # Use binary AND for multiplication and XOR for addition\n",
    "            result[i] ^= matrix[i, j] & vector[j]\n",
    "    \n",
    "    return result\n",
    "\n",
    "def boolean_matrix_mult(matrix1, matrix2):\n",
    "    \"\"\"\n",
    "    Performs matrix-matrix multiplication in Boolean algebra.\n",
    "    Addition is XOR, and multiplication is binary AND.\n",
    "    \"\"\"\n",
    "    # Ensure inputs are numpy arrays\n",
    "    matrix1 = np.array(matrix1)\n",
    "    matrix2 = np.array(matrix2)\n",
    "    \n",
    "    # Initialize the result matrix with zeros\n",
    "    result = np.zeros((matrix1.shape[0], matrix2.shape[1]), dtype=int)\n",
    "    \n",
    "    # Perform Boolean matrix-matrix multiplication using the vector function\n",
    "    for j in range(matrix2.shape[1]):\n",
    "        # Extract the j-th column of matrix2\n",
    "        col_vector = matrix2[:, j]\n",
    "        \n",
    "        # Compute the j-th column of the result by matrix-vector multiplication\n",
    "        result[:, j] = boolean_matrix_vector_mult(matrix1, col_vector)\n",
    "    \n",
    "    return result"
   ]
  },
  {
   "cell_type": "code",
   "execution_count": 32,
   "metadata": {},
   "outputs": [
    {
     "name": "stdout",
     "output_type": "stream",
     "text": [
      "Sierpinski matrix S_2:\n",
      " [[1 0 0 0]\n",
      " [1 1 0 0]\n",
      " [1 0 1 0]\n",
      " [1 1 1 1]]\n",
      "Boolean matrix product S_2 * S_2:\n",
      " [[1 0 0 0]\n",
      " [0 1 0 0]\n",
      " [0 0 1 0]\n",
      " [0 0 0 1]]\n",
      "Sierpinski matrix S_3:\n",
      " [[1 0 0 0 0 0 0 0]\n",
      " [1 1 0 0 0 0 0 0]\n",
      " [1 0 1 0 0 0 0 0]\n",
      " [1 1 1 1 0 0 0 0]\n",
      " [1 0 0 0 1 0 0 0]\n",
      " [1 1 0 0 1 1 0 0]\n",
      " [1 0 1 0 1 0 1 0]\n",
      " [1 1 1 1 1 1 1 1]]\n",
      "Boolean matrix product S_3 * S_3:\n",
      " [[1 0 0 0 0 0 0 0]\n",
      " [0 1 0 0 0 0 0 0]\n",
      " [0 0 1 0 0 0 0 0]\n",
      " [0 0 0 1 0 0 0 0]\n",
      " [0 0 0 0 1 0 0 0]\n",
      " [0 0 0 0 0 1 0 0]\n",
      " [0 0 0 0 0 0 1 0]\n",
      " [0 0 0 0 0 0 0 1]]\n",
      "Sierpinski matrix S_4:\n",
      " [[1 0 0 0 0 0 0 0 0 0 0 0 0 0 0 0]\n",
      " [1 1 0 0 0 0 0 0 0 0 0 0 0 0 0 0]\n",
      " [1 0 1 0 0 0 0 0 0 0 0 0 0 0 0 0]\n",
      " [1 1 1 1 0 0 0 0 0 0 0 0 0 0 0 0]\n",
      " [1 0 0 0 1 0 0 0 0 0 0 0 0 0 0 0]\n",
      " [1 1 0 0 1 1 0 0 0 0 0 0 0 0 0 0]\n",
      " [1 0 1 0 1 0 1 0 0 0 0 0 0 0 0 0]\n",
      " [1 1 1 1 1 1 1 1 0 0 0 0 0 0 0 0]\n",
      " [1 0 0 0 0 0 0 0 1 0 0 0 0 0 0 0]\n",
      " [1 1 0 0 0 0 0 0 1 1 0 0 0 0 0 0]\n",
      " [1 0 1 0 0 0 0 0 1 0 1 0 0 0 0 0]\n",
      " [1 1 1 1 0 0 0 0 1 1 1 1 0 0 0 0]\n",
      " [1 0 0 0 1 0 0 0 1 0 0 0 1 0 0 0]\n",
      " [1 1 0 0 1 1 0 0 1 1 0 0 1 1 0 0]\n",
      " [1 0 1 0 1 0 1 0 1 0 1 0 1 0 1 0]\n",
      " [1 1 1 1 1 1 1 1 1 1 1 1 1 1 1 1]]\n",
      "Boolean matrix product S_4 * S_4:\n",
      " [[1 0 0 0 0 0 0 0 0 0 0 0 0 0 0 0]\n",
      " [0 1 0 0 0 0 0 0 0 0 0 0 0 0 0 0]\n",
      " [0 0 1 0 0 0 0 0 0 0 0 0 0 0 0 0]\n",
      " [0 0 0 1 0 0 0 0 0 0 0 0 0 0 0 0]\n",
      " [0 0 0 0 1 0 0 0 0 0 0 0 0 0 0 0]\n",
      " [0 0 0 0 0 1 0 0 0 0 0 0 0 0 0 0]\n",
      " [0 0 0 0 0 0 1 0 0 0 0 0 0 0 0 0]\n",
      " [0 0 0 0 0 0 0 1 0 0 0 0 0 0 0 0]\n",
      " [0 0 0 0 0 0 0 0 1 0 0 0 0 0 0 0]\n",
      " [0 0 0 0 0 0 0 0 0 1 0 0 0 0 0 0]\n",
      " [0 0 0 0 0 0 0 0 0 0 1 0 0 0 0 0]\n",
      " [0 0 0 0 0 0 0 0 0 0 0 1 0 0 0 0]\n",
      " [0 0 0 0 0 0 0 0 0 0 0 0 1 0 0 0]\n",
      " [0 0 0 0 0 0 0 0 0 0 0 0 0 1 0 0]\n",
      " [0 0 0 0 0 0 0 0 0 0 0 0 0 0 1 0]\n",
      " [0 0 0 0 0 0 0 0 0 0 0 0 0 0 0 1]]\n",
      "Sierpinski matrix S_5:\n",
      " [[1 0 0 ... 0 0 0]\n",
      " [1 1 0 ... 0 0 0]\n",
      " [1 0 1 ... 0 0 0]\n",
      " ...\n",
      " [1 1 0 ... 1 0 0]\n",
      " [1 0 1 ... 0 1 0]\n",
      " [1 1 1 ... 1 1 1]]\n",
      "Boolean matrix product S_5 * S_5:\n",
      " [[1 0 0 ... 0 0 0]\n",
      " [0 1 0 ... 0 0 0]\n",
      " [0 0 1 ... 0 0 0]\n",
      " ...\n",
      " [0 0 0 ... 1 0 0]\n",
      " [0 0 0 ... 0 1 0]\n",
      " [0 0 0 ... 0 0 1]]\n"
     ]
    }
   ],
   "source": [
    "for j in range(2, 6):\n",
    "    s = sierpinski_matrix(j)\n",
    "    s_2 = boolean_matrix_mult(s, s)\n",
    "    print(\"Sierpinski matrix S_{}:\\n\".format(j), s)\n",
    "    print(\"Boolean matrix product S_{} * S_{}:\\n\".format(j, j), s_2)\n"
   ]
  },
  {
   "cell_type": "markdown",
   "metadata": {},
   "source": [
    "Sierpinski Matricies multilied with itself resut in the identity matrix.\n",
    "It reminds me of orthonormal matricies which can be multiplied with their transpose to create the identity matrix. Except here its not transpose ( also sierpinski is not symmetric as that would result in transpose and og matrix to be the same)\n",
    "\n",
    "These matricies are somewhat similar to the orthonormal ones as the scalar product between a row and a column is 1 if same index. 0 else (i.e. identity matrix duh)\n",
    "\n",
    "\n"
   ]
  },
  {
   "cell_type": "code",
   "execution_count": null,
   "metadata": {},
   "outputs": [
    {
     "name": "stdout",
     "output_type": "stream",
     "text": [
      "w110: [0 1 1 1 0 0 0 1]\n",
      "Verification f110: [0 1 1 1 0 1 1 0] matches f110: True\n",
      "w126: [0 1 1 1 1 1 1 0]\n",
      "Verification f126: [0 1 1 1 1 1 1 0] matches f126: True\n"
     ]
    }
   ],
   "source": [
    "# Define f110 and f126 as binary vectors\n",
    "f110 = np.array([0, 1, 1, 1, 0, 1, 1, 0], dtype=int)\n",
    "f126 = np.array([0, 1, 1, 1, 1, 1, 1, 0], dtype=int)\n",
    "\n",
    "S3 = sierpinski_matrix(3)\n",
    "\n",
    "w110 = boolean_matrix_vector_mult(S3, f110)\n",
    "w126 = boolean_matrix_vector_mult(S3, f126)\n",
    "\n",
    "f110_check = boolean_matrix_vector_mult(S3, w110)\n",
    "f126_check = boolean_matrix_vector_mult(S3, w126)\n",
    "\n",
    "print(\"w110:\", w110)\n",
    "print(\"Verification f110:\", f110_check, \"matches f110:\", np.array_equal(f110_check, f110))\n",
    "\n",
    "print(\"w126:\", w126)\n",
    "print(\"Verification f126:\", f126_check, \"matches f126:\", np.array_equal(f126_check, f126))"
   ]
  }
 ],
 "metadata": {
  "kernelspec": {
   "display_name": "Python 3",
   "language": "python",
   "name": "python3"
  },
  "language_info": {
   "codemirror_mode": {
    "name": "ipython",
    "version": 3
   },
   "file_extension": ".py",
   "mimetype": "text/x-python",
   "name": "python",
   "nbconvert_exporter": "python",
   "pygments_lexer": "ipython3",
   "version": "3.12.2"
  }
 },
 "nbformat": 4,
 "nbformat_minor": 2
}
