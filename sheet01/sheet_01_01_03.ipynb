{
 "cells": [
  {
   "cell_type": "code",
   "execution_count": 71,
   "metadata": {},
   "outputs": [],
   "source": [
    "import seaborn as sns\n",
    "import random\n",
    "import numpy as np\n",
    "import pandas as pd"
   ]
  },
  {
   "cell_type": "code",
   "execution_count": 57,
   "metadata": {},
   "outputs": [
    {
     "name": "stdout",
     "output_type": "stream",
     "text": [
      "Result for 0, 1, 7: [0, 1, 3]\n"
     ]
    }
   ],
   "source": [
    "#exercise 1.1 a)\n",
    "import numpy as np\n",
    "\n",
    "# this funtion was written by Git Copilot\n",
    "def count_bits(x):\n",
    "    return int(np.ceil(np.log2(x + 1)))\n",
    "\n",
    "# Test the function\n",
    "inputs = [0, 1, 7]\n",
    "results = [count_bits(x) for x in inputs]\n",
    "print('Result for 0, 1, 7:', results)"
   ]
  },
  {
   "cell_type": "code",
   "execution_count": 73,
   "metadata": {},
   "outputs": [
    {
     "data": {
      "text/plain": [
       "'[0 1 0 1]'"
      ]
     },
     "execution_count": 73,
     "metadata": {},
     "output_type": "execute_result"
    }
   ],
   "source": [
    "# task 1.1 b)\n",
    "def binary_representation(x, n):\n",
    "    #initialize the array with zeros\n",
    "    z = np.zeros(n, dtype=int)\n",
    "    #fill the array with the binary representation of x\n",
    "    for i in range(n):\n",
    "        # we start from the end of the array and always set the current bit to the modulo 2 of x\n",
    "        z[n-i-1] = x % 2\n",
    "        # then we divide x by 2 and repeat the process\n",
    "        x //= 2\n",
    "    return z\n",
    "\n",
    "# Test the function\n",
    "binary_representation(5, 4)"
   ]
  },
  {
   "cell_type": "code",
   "execution_count": 82,
   "metadata": {},
   "outputs": [
    {
     "data": {
      "text/html": [
       "<div>\n",
       "<style scoped>\n",
       "    .dataframe tbody tr th:only-of-type {\n",
       "        vertical-align: middle;\n",
       "    }\n",
       "\n",
       "    .dataframe tbody tr th {\n",
       "        vertical-align: top;\n",
       "    }\n",
       "\n",
       "    .dataframe thead th {\n",
       "        text-align: right;\n",
       "    }\n",
       "</style>\n",
       "<table border=\"1\" class=\"dataframe\">\n",
       "  <thead>\n",
       "    <tr style=\"text-align: right;\">\n",
       "      <th></th>\n",
       "      <th>0</th>\n",
       "    </tr>\n",
       "  </thead>\n",
       "  <tbody>\n",
       "    <tr>\n",
       "      <th>0</th>\n",
       "      <td>[0 0 0]</td>\n",
       "    </tr>\n",
       "    <tr>\n",
       "      <th>1</th>\n",
       "      <td>[0 0 1]</td>\n",
       "    </tr>\n",
       "    <tr>\n",
       "      <th>2</th>\n",
       "      <td>[0 1 0]</td>\n",
       "    </tr>\n",
       "    <tr>\n",
       "      <th>3</th>\n",
       "      <td>[0 1 1]</td>\n",
       "    </tr>\n",
       "    <tr>\n",
       "      <th>4</th>\n",
       "      <td>[1 0 0]</td>\n",
       "    </tr>\n",
       "    <tr>\n",
       "      <th>5</th>\n",
       "      <td>[1 0 1]</td>\n",
       "    </tr>\n",
       "  </tbody>\n",
       "</table>\n",
       "</div>"
      ],
      "text/plain": [
       "         0\n",
       "0  [0 0 0]\n",
       "1  [0 0 1]\n",
       "2  [0 1 0]\n",
       "3  [0 1 1]\n",
       "4  [1 0 0]\n",
       "5  [1 0 1]"
      ]
     },
     "execution_count": 82,
     "metadata": {},
     "output_type": "execute_result"
    }
   ],
   "source": [
    "# task 1.1 c)\n",
    "\n",
    "# calculate the binary representation of the numbers from 0 to 5\n",
    "binaries = [str(binary_representation(x, 3)) for x in range(6)]\n",
    "pd.DataFrame(binaries)\n"
   ]
  },
  {
   "cell_type": "code",
   "execution_count": 46,
   "metadata": {},
   "outputs": [],
   "source": [
    "#exercise 1.3 a)\n",
    "\n",
    "def cellular_automaton(s:str, rule : int, n:int = 64):\n",
    "    rule = rule_to_bin(rule)\n",
    "    output = []\n",
    "    # loop through the number of rows we want to generate\n",
    "    for i in range(n):\n",
    "        s = next_gen(s, rule)\n",
    "        output.append(s)\n",
    "    # use a heatmap to display the output\n",
    "    sns.heatmap([[int(i) for i in x] for x in output], cmap='Greys', cbar=False, square=True, xticklabels=False, yticklabels=False)\n",
    "\n",
    "\n",
    "# these funtions were written by Git Copilot, comments by us\n",
    "def rule_to_bin(rule):\n",
    "    #we get an integer as input and return the binary representation of it\n",
    "    return format(rule, '08b')\n",
    "\n",
    "def next_gen(s, rule):\n",
    "    new_s = ''\n",
    "    #pad the string with 0s to avoid index out of range\n",
    "    s = \"0\" + s + \"0\"\n",
    "    #but only loop over the original string\n",
    "    for i in range(1, len(s) - 1):\n",
    "        #we get the 3 digit binary representation of the current cell and its neighbours\n",
    "        #the 7 - int() is to get the correct index in the rule\n",
    "        new_s += rule[7 - int(s[i-1] + s[i] + s[i+1], 2)]\n",
    "    return new_s\n",
    "   \n"
   ]
  },
  {
   "cell_type": "code",
   "execution_count": 51,
   "metadata": {},
   "outputs": [
    {
     "name": "stdout",
     "output_type": "stream",
     "text": [
      "0001110100010110100000110011001101001110100001001000100000111100111001001011100101010001011110011100110000010011000111111011111\n",
      "Result for rule 60\n"
     ]
    },
    {
     "data": {
      "image/png": "[encoded data removed]",
      "text/plain": [
       "<Figure size 640x480 with 1 Axes>"
      ]
     },
     "metadata": {},
     "output_type": "display_data"
    }
   ],
   "source": [
    "\n",
    "# initialize the random string as input for the cellular automaton\n",
    "random_string = ''.join(random.choice(['0', '1']) for _ in range(127))\n",
    "print(random_string)\n",
    "\n",
    "# result for rule 60\n",
    "print('Result for rule 60')\n",
    "cellular_automaton(random_string, 60, 64)\n"
   ]
  },
  {
   "cell_type": "code",
   "execution_count": 52,
   "metadata": {},
   "outputs": [
    {
     "name": "stdout",
     "output_type": "stream",
     "text": [
      "Result for rule 102\n"
     ]
    },
    {
     "data": {
      "image/png": "[encoded data removed]",
      "text/plain": [
       "<Figure size 640x480 with 1 Axes>"
      ]
     },
     "metadata": {},
     "output_type": "display_data"
    }
   ],
   "source": [
    "# result for rule 102\n",
    "print('Result for rule 102')\n",
    "cellular_automaton(random_string, 102, 64)"
   ]
  }
 ],
 "metadata": {
  "kernelspec": {
   "display_name": "Python 3",
   "language": "python",
   "name": "python3"
  },
  "language_info": {
   "codemirror_mode": {
    "name": "ipython",
    "version": 3
   },
   "file_extension": ".py",
   "mimetype": "text/x-python",
   "name": "python",
   "nbconvert_exporter": "python",
   "pygments_lexer": "ipython3",
   "version": "3.10.8"
  }
 },
 "nbformat": 4,
 "nbformat_minor": 2
}
