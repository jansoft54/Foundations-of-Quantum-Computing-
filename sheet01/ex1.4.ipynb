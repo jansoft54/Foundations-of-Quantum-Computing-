{
 "cells": [
  {
   "cell_type": "code",
   "execution_count": 30,
   "metadata": {},
   "outputs": [
    {
     "name": "stdout",
     "output_type": "stream",
     "text": [
      "Requirement already satisfied: plotly in c:\\users\\ruke\\appdata\\local\\programs\\python\\python312\\lib\\site-packages (5.24.1)\n",
      "Requirement already satisfied: tenacity>=6.2.0 in c:\\users\\ruke\\appdata\\local\\programs\\python\\python312\\lib\\site-packages (from plotly) (9.0.0)\n",
      "Requirement already satisfied: packaging in c:\\users\\ruke\\appdata\\roaming\\python\\python312\\site-packages (from plotly) (24.1)\n",
      "Note: you may need to restart the kernel to use updated packages.\n"
     ]
    },
    {
     "name": "stderr",
     "output_type": "stream",
     "text": [
      "\n",
      "[notice] A new release of pip is available: 24.0 -> 24.2\n",
      "[notice] To update, run: python.exe -m pip install --upgrade pip\n"
     ]
    }
   ],
   "source": [
    "%pip install plotly\n",
    "%pip install nbformat>=4.2.0\n",
    "import numpy as np\n",
    "import pandas as pd\n",
    "import plotly.graph_objs as go\n",
    "import plotly.io as pio"
   ]
  },
  {
   "cell_type": "markdown",
   "metadata": {},
   "source": [
    "1.4. a crazy idea followed by a stupid one"
   ]
  },
  {
   "cell_type": "code",
   "execution_count": 31,
   "metadata": {},
   "outputs": [
    {
     "name": "stdout",
     "output_type": "stream",
     "text": [
      "Results for Rule 110:\n",
      "   Original y (Rule 110)  Predicted y_hat (Rule 110)\n",
      "0                      1                        0.25\n",
      "1                     -1                       -0.25\n",
      "2                     -1                       -0.25\n",
      "3                     -1                       -0.75\n",
      "4                      1                        0.75\n",
      "5                     -1                        0.25\n",
      "6                     -1                        0.25\n",
      "7                      1                       -0.25\n",
      "\n",
      "Results for Rule 126:\n",
      "   Original y (Rule 126)  Predicted y_hat (Rule 126)\n",
      "0                      1                1.570092e-16\n",
      "1                     -1                0.000000e+00\n",
      "2                     -1                1.570092e-16\n",
      "3                     -1                0.000000e+00\n",
      "4                     -1                0.000000e+00\n",
      "5                     -1               -1.570092e-16\n",
      "6                     -1                0.000000e+00\n",
      "7                      1               -1.570092e-16\n"
     ]
    },
    {
     "ename": "ValueError",
     "evalue": "Mime type rendering requires nbformat>=4.2.0 but it is not installed",
     "output_type": "error",
     "traceback": [
      "\u001b[1;31m---------------------------------------------------------------------------\u001b[0m",
      "\u001b[1;31mValueError\u001b[0m                                Traceback (most recent call last)",
      "Cell \u001b[1;32mIn[31], line 81\u001b[0m\n\u001b[0;32m     78\u001b[0m     pio\u001b[38;5;241m.\u001b[39mshow(fig)\n\u001b[0;32m     80\u001b[0m \u001b[38;5;66;03m# Plotting for Rule 110 and Rule 126\u001b[39;00m\n\u001b[1;32m---> 81\u001b[0m \u001b[43mplot_3d_representation\u001b[49m\u001b[43m(\u001b[49m\u001b[43mXT\u001b[49m\u001b[43m,\u001b[49m\u001b[43m \u001b[49m\u001b[43my_rule_110\u001b[49m\u001b[43m,\u001b[49m\u001b[43m \u001b[49m\u001b[38;5;124;43m\"\u001b[39;49m\u001b[38;5;124;43mRule 110: 3D Representation\u001b[39;49m\u001b[38;5;124;43m\"\u001b[39;49m\u001b[43m)\u001b[49m\n\u001b[0;32m     82\u001b[0m plot_3d_representation(XT, y_rule_126, \u001b[38;5;124m\"\u001b[39m\u001b[38;5;124mRule 126: 3D Representation\u001b[39m\u001b[38;5;124m\"\u001b[39m)\n",
      "Cell \u001b[1;32mIn[31], line 78\u001b[0m, in \u001b[0;36mplot_3d_representation\u001b[1;34m(XT, y, title)\u001b[0m\n\u001b[0;32m     68\u001b[0m layout \u001b[38;5;241m=\u001b[39m go\u001b[38;5;241m.\u001b[39mLayout(\n\u001b[0;32m     69\u001b[0m     title\u001b[38;5;241m=\u001b[39mtitle,\n\u001b[0;32m     70\u001b[0m     scene\u001b[38;5;241m=\u001b[39m\u001b[38;5;28mdict\u001b[39m(\n\u001b[1;32m   (...)\u001b[0m\n\u001b[0;32m     74\u001b[0m     )\n\u001b[0;32m     75\u001b[0m )\n\u001b[0;32m     77\u001b[0m fig \u001b[38;5;241m=\u001b[39m go\u001b[38;5;241m.\u001b[39mFigure(data\u001b[38;5;241m=\u001b[39m[trace], layout\u001b[38;5;241m=\u001b[39mlayout)\n\u001b[1;32m---> 78\u001b[0m \u001b[43mpio\u001b[49m\u001b[38;5;241;43m.\u001b[39;49m\u001b[43mshow\u001b[49m\u001b[43m(\u001b[49m\u001b[43mfig\u001b[49m\u001b[43m)\u001b[49m\n",
      "File \u001b[1;32mc:\\Users\\ruke\\AppData\\Local\\Programs\\Python\\Python312\\Lib\\site-packages\\plotly\\io\\_renderers.py:394\u001b[0m, in \u001b[0;36mshow\u001b[1;34m(fig, renderer, validate, **kwargs)\u001b[0m\n\u001b[0;32m    389\u001b[0m         \u001b[38;5;28;01mraise\u001b[39;00m \u001b[38;5;167;01mValueError\u001b[39;00m(\n\u001b[0;32m    390\u001b[0m             \u001b[38;5;124m\"\u001b[39m\u001b[38;5;124mMime type rendering requires ipython but it is not installed\u001b[39m\u001b[38;5;124m\"\u001b[39m\n\u001b[0;32m    391\u001b[0m         )\n\u001b[0;32m    393\u001b[0m     \u001b[38;5;28;01mif\u001b[39;00m \u001b[38;5;129;01mnot\u001b[39;00m nbformat \u001b[38;5;129;01mor\u001b[39;00m Version(nbformat\u001b[38;5;241m.\u001b[39m__version__) \u001b[38;5;241m<\u001b[39m Version(\u001b[38;5;124m\"\u001b[39m\u001b[38;5;124m4.2.0\u001b[39m\u001b[38;5;124m\"\u001b[39m):\n\u001b[1;32m--> 394\u001b[0m         \u001b[38;5;28;01mraise\u001b[39;00m \u001b[38;5;167;01mValueError\u001b[39;00m(\n\u001b[0;32m    395\u001b[0m             \u001b[38;5;124m\"\u001b[39m\u001b[38;5;124mMime type rendering requires nbformat>=4.2.0 but it is not installed\u001b[39m\u001b[38;5;124m\"\u001b[39m\n\u001b[0;32m    396\u001b[0m         )\n\u001b[0;32m    398\u001b[0m     ipython_display\u001b[38;5;241m.\u001b[39mdisplay(bundle, raw\u001b[38;5;241m=\u001b[39m\u001b[38;5;28;01mTrue\u001b[39;00m)\n\u001b[0;32m    400\u001b[0m \u001b[38;5;66;03m# external renderers\u001b[39;00m\n",
      "\u001b[1;31mValueError\u001b[0m: Mime type rendering requires nbformat>=4.2.0 but it is not installed"
     ]
    }
   ],
   "source": [
    "# chatgpt helped writing out rules\n",
    "\n",
    "XT = np.array([\n",
    "    [+1, +1, +1],\n",
    "    [+1, +1, -1],\n",
    "    [+1, -1, +1],\n",
    "    [+1, -1, -1],\n",
    "    [-1, +1, +1],\n",
    "    [-1, +1, -1],\n",
    "    [-1, -1, +1],\n",
    "    [-1, -1, -1]\n",
    "])\n",
    "\n",
    "y_rule_110 = np.array([+1, -1, -1, -1, +1, -1, -1, +1])\n",
    "\n",
    "y_rule_126 = np.array([+1, -1, -1, -1, -1, -1, -1, +1])\n",
    "\n",
    "# Solve the least squares problem for rule 110\n",
    "w_star_110, residuals_110, rank_110, s_110 = np.linalg.lstsq(XT, y_rule_110, rcond=None)\n",
    "\n",
    "y_hat_110 = XT @ w_star_110\n",
    "\n",
    "# Solve the least squares problem for rule 126\n",
    "w_star_126, residuals_126, rank_126, s_126 = np.linalg.lstsq(XT, y_rule_126, rcond=None)\n",
    "\n",
    "y_hat_126 = XT @ w_star_126\n",
    "\n",
    "# Create dataframes for better comparison of y and y_hat\n",
    "results_110 = pd.DataFrame({\n",
    "    'Original y (Rule 110)': y_rule_110,\n",
    "    'Predicted y_hat (Rule 110)': y_hat_110\n",
    "})\n",
    "\n",
    "results_126 = pd.DataFrame({\n",
    "    'Original y (Rule 126)': y_rule_126,\n",
    "    'Predicted y_hat (Rule 126)': y_hat_126\n",
    "})\n",
    "\n",
    "# Print the results in table format for better alignment and comparison\n",
    "print(\"Results for Rule 110:\")\n",
    "print(results_110)\n",
    "print()\n",
    "\n",
    "print(\"Results for Rule 126:\")\n",
    "print(results_126)\n",
    "\n",
    "\n",
    "# Function to visualize points in 3D space for better understanding of non-linearity using Plotly\n",
    "def plot_3d_representation(XT, y, title):\n",
    "    # Define colors based on y values\n",
    "    colors = ['blue' if val == 1 else 'red' for val in y]\n",
    "\n",
    "    # Create a scatter plot in 3D\n",
    "    trace = go.Scatter3d(\n",
    "        x=XT[:, 0],\n",
    "        y=XT[:, 1],\n",
    "        z=XT[:, 2],\n",
    "        mode='markers',\n",
    "        marker=dict(\n",
    "            size=10,\n",
    "            color=colors,\n",
    "            opacity=0.8,\n",
    "            symbol='circle'\n",
    "        ),\n",
    "        text=[f'y={val}' for val in y]\n",
    "    )\n",
    "\n",
    "    layout = go.Layout(\n",
    "        title=title,\n",
    "        scene=dict(\n",
    "            xaxis_title='X1',\n",
    "            yaxis_title='X2',\n",
    "            zaxis_title='X3'\n",
    "        )\n",
    "    )\n",
    "\n",
    "    fig = go.Figure(data=[trace], layout=layout)\n",
    "    pio.show(fig)\n",
    "\n",
    "# Plotting for Rule 110 and Rule 126\n",
    "plot_3d_representation(XT, y_rule_110, \"Rule 110: 3D Representation\")\n",
    "plot_3d_representation(XT, y_rule_126, \"Rule 126: 3D Representation\")\n",
    "\n",
    "\n"
   ]
  },
  {
   "cell_type": "markdown",
   "metadata": {},
   "source": [
    "They cannot be linear in the 3 arguments, since the values of y hat are significantly off.\n"
   ]
  }
 ],
 "metadata": {
  "kernelspec": {
   "display_name": "Python 3",
   "language": "python",
   "name": "python3"
  },
  "language_info": {
   "codemirror_mode": {
    "name": "ipython",
    "version": 3
   },
   "file_extension": ".py",
   "mimetype": "text/x-python",
   "name": "python",
   "nbconvert_exporter": "python",
   "pygments_lexer": "ipython3",
   "version": "3.12.2"
  }
 },
 "nbformat": 4,
 "nbformat_minor": 2
}
