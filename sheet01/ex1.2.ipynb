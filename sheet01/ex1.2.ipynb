{
 "cells": [
  {
   "cell_type": "code",
   "execution_count": 3,
   "metadata": {},
   "outputs": [
    {
     "name": "stdout",
     "output_type": "stream",
     "text": [
      "Requirement already satisfied: seaborn in c:\\users\\ruke\\appdata\\local\\programs\\python\\python312\\lib\\site-packages (0.13.2)\n",
      "Requirement already satisfied: numpy!=1.24.0,>=1.20 in c:\\users\\ruke\\appdata\\local\\programs\\python\\python312\\lib\\site-packages (from seaborn) (2.0.0)\n",
      "Requirement already satisfied: pandas>=1.2 in c:\\users\\ruke\\appdata\\local\\programs\\python\\python312\\lib\\site-packages (from seaborn) (2.2.2)\n",
      "Requirement already satisfied: matplotlib!=3.6.1,>=3.4 in c:\\users\\ruke\\appdata\\local\\programs\\python\\python312\\lib\\site-packages (from seaborn) (3.9.2)\n",
      "Requirement already satisfied: contourpy>=1.0.1 in c:\\users\\ruke\\appdata\\local\\programs\\python\\python312\\lib\\site-packages (from matplotlib!=3.6.1,>=3.4->seaborn) (1.3.0)\n",
      "Requirement already satisfied: cycler>=0.10 in c:\\users\\ruke\\appdata\\local\\programs\\python\\python312\\lib\\site-packages (from matplotlib!=3.6.1,>=3.4->seaborn) (0.12.1)\n",
      "Requirement already satisfied: fonttools>=4.22.0 in c:\\users\\ruke\\appdata\\local\\programs\\python\\python312\\lib\\site-packages (from matplotlib!=3.6.1,>=3.4->seaborn) (4.54.1)\n",
      "Requirement already satisfied: kiwisolver>=1.3.1 in c:\\users\\ruke\\appdata\\local\\programs\\python\\python312\\lib\\site-packages (from matplotlib!=3.6.1,>=3.4->seaborn) (1.4.7)\n",
      "Requirement already satisfied: packaging>=20.0 in c:\\users\\ruke\\appdata\\roaming\\python\\python312\\site-packages (from matplotlib!=3.6.1,>=3.4->seaborn) (24.1)\n",
      "Requirement already satisfied: pillow>=8 in c:\\users\\ruke\\appdata\\local\\programs\\python\\python312\\lib\\site-packages (from matplotlib!=3.6.1,>=3.4->seaborn) (11.0.0)\n",
      "Requirement already satisfied: pyparsing>=2.3.1 in c:\\users\\ruke\\appdata\\local\\programs\\python\\python312\\lib\\site-packages (from matplotlib!=3.6.1,>=3.4->seaborn) (3.2.0)\n",
      "Requirement already satisfied: python-dateutil>=2.7 in c:\\users\\ruke\\appdata\\local\\programs\\python\\python312\\lib\\site-packages (from matplotlib!=3.6.1,>=3.4->seaborn) (2.9.0.post0)\n",
      "Requirement already satisfied: pytz>=2020.1 in c:\\users\\ruke\\appdata\\local\\programs\\python\\python312\\lib\\site-packages (from pandas>=1.2->seaborn) (2024.1)\n",
      "Requirement already satisfied: tzdata>=2022.7 in c:\\users\\ruke\\appdata\\local\\programs\\python\\python312\\lib\\site-packages (from pandas>=1.2->seaborn) (2024.1)\n",
      "Requirement already satisfied: six>=1.5 in c:\\users\\ruke\\appdata\\local\\programs\\python\\python312\\lib\\site-packages (from python-dateutil>=2.7->matplotlib!=3.6.1,>=3.4->seaborn) (1.16.0)\n",
      "Note: you may need to restart the kernel to use updated packages.\n"
     ]
    },
    {
     "name": "stderr",
     "output_type": "stream",
     "text": [
      "\n",
      "[notice] A new release of pip is available: 24.0 -> 24.2\n",
      "[notice] To update, run: python.exe -m pip install --upgrade pip\n"
     ]
    }
   ],
   "source": [
    "%pip install seaborn\n",
    "\n",
    "import seaborn as sns\n",
    "import random\n",
    "import numpy as np\n",
    "import pandas as pd"
   ]
  },
  {
   "cell_type": "markdown",
   "metadata": {},
   "source": [
    "GRAY CODES :)"
   ]
  },
  {
   "cell_type": "markdown",
   "metadata": {},
   "source": [
    "a) Grey Code numbers that are consecutive only differ in 1 bit, i.e. the flip of only 1 bit is sufficient to add/subtract 1.\n",
    "    This could also lead to technical improvements. E.g. when counting up the number of flips required is reduced significantly, thus also the number of possible mistakes that can happen on technical level. Maybe it could also save power?"
   ]
  },
  {
   "cell_type": "code",
   "execution_count": 4,
   "metadata": {},
   "outputs": [
    {
     "data": {
      "text/plain": [
       "array([0, 1, 0, 1])"
      ]
     },
     "execution_count": 4,
     "metadata": {},
     "output_type": "execute_result"
    }
   ],
   "source": [
    "# shameless steal from our ex 1\n",
    "def binary_representation(x, n):\n",
    "    #initialize the array with zeros\n",
    "    z = np.zeros(n, dtype=int)\n",
    "    #fill the array with the binary representation of x\n",
    "    for i in range(n):\n",
    "        # we start from the end of the array and always set the current bit to the modulo 2 of x\n",
    "        z[n-i-1] = x % 2\n",
    "        # then we divide10 x by 2 and repeat the process\n",
    "        x //= 2\n",
    "    return z\n",
    "\n",
    "# Test the function\n",
    "binary_representation(5, 4)"
   ]
  },
  {
   "cell_type": "markdown",
   "metadata": {},
   "source": [
    "Chat gpt proposed to use the formula \n",
    "$g(x) = x \\oplus \\left( \\frac{x}{2} \\right)$\n",
    "as the mapping form binary to gray code. there are also other mappings/other codes with the gray code property. We'll use the formula above."
   ]
  },
  {
   "cell_type": "code",
   "execution_count": 6,
   "metadata": {},
   "outputs": [],
   "source": [
    "# Gray code function using binary representation\n",
    "def graycode_representation(x, n):\n",
    "    # Get the binary representation of x\n",
    "    binary_x = binary_representation(x, n)\n",
    "    \n",
    "    # Initialize the gray code array\n",
    "    gray_code = np.zeros(n, dtype=int)\n",
    "    \n",
    "    # The first bit of Gray code is the same as the first bit of the binary representation\n",
    "    gray_code[0] = binary_x[0]\n",
    "    \n",
    "    # For the rest of the bits, use the XOR of the current bit and the previous bit in binary representation\n",
    "    for i in range(1, n):\n",
    "        gray_code[i] = binary_x[i-1] ^ binary_x[i]  # XOR with the previous bit\n",
    "    \n",
    "    return gray_code"
   ]
  },
  {
   "cell_type": "code",
   "execution_count": 8,
   "metadata": {},
   "outputs": [
    {
     "name": "stdout",
     "output_type": "stream",
     "text": [
      "    Decimal Binary Gray Code\n",
      "0         0  00000     00000\n",
      "1         1  00001     00001\n",
      "2         2  00010     00011\n",
      "3         3  00011     00010\n",
      "4         4  00100     00110\n",
      "5         5  00101     00111\n",
      "6         6  00110     00101\n",
      "7         7  00111     00100\n",
      "8         8  01000     01100\n",
      "9         9  01001     01101\n",
      "10       10  01010     01111\n",
      "11       11  01011     01110\n",
      "12       12  01100     01010\n",
      "13       13  01101     01011\n",
      "14       14  01110     01001\n",
      "15       15  01111     01000\n",
      "16       16  10000     11000\n",
      "17       17  10001     11001\n",
      "18       18  10010     11011\n",
      "19       19  10011     11010\n",
      "20       20  10100     11110\n",
      "21       21  10101     11111\n",
      "22       22  10110     11101\n",
      "23       23  10111     11100\n",
      "24       24  11000     10100\n",
      "25       25  11001     10101\n",
      "26       26  11010     10111\n",
      "27       27  11011     10110\n",
      "28       28  11100     10010\n",
      "29       29  11101     10011\n",
      "30       30  11110     10001\n",
      "31       31  11111     10000\n"
     ]
    }
   ],
   "source": [
    "n = 5  # Number of bits\n",
    "\n",
    "# Create a DataFrame\n",
    "data = {\n",
    "    \"Decimal\": list(range(2**n)),\n",
    "    \"Binary\": [ ''.join(map(str, binary_representation(x, n))) for x in range(2**n) ],\n",
    "    \"Gray Code\": [ ''.join(map(str, graycode_representation(x, n))) for x in range(2**n) ]\n",
    "}\n",
    "\n",
    "df = pd.DataFrame(data)\n",
    "print(df)"
   ]
  }
 ],
 "metadata": {
  "kernelspec": {
   "display_name": "Python 3",
   "language": "python",
   "name": "python3"
  },
  "language_info": {
   "codemirror_mode": {
    "name": "ipython",
    "version": 3
   },
   "file_extension": ".py",
   "mimetype": "text/x-python",
   "name": "python",
   "nbconvert_exporter": "python",
   "pygments_lexer": "ipython3",
   "version": "3.12.2"
  }
 },
 "nbformat": 4,
 "nbformat_minor": 2
}
