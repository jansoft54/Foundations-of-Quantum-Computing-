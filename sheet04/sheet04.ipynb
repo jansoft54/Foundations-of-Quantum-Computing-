{
 "cells": [
  {
   "cell_type": "markdown",
   "metadata": {},
   "source": [
    "### task 4.2 rotations in the complex plane\n"
   ]
  },
  {
   "cell_type": "markdown",
   "metadata": {},
   "source": [
    "After euelrs identity we know that $ln(i \\cdot 1) = ln(e^{\\frac{\\pi}{2}i} \\cdot e^{2\\pi i k}) = 2\\pi i(\\frac{1}{4}+k)$, with\n",
    "$k \\in \\mathbb{Z}$\n"
   ]
  },
  {
   "cell_type": "markdown",
   "metadata": {},
   "source": [
    "### task 4.3 even more cyclic groups"
   ]
  },
  {
   "cell_type": "code",
   "execution_count": null,
   "metadata": {},
   "outputs": [
    {
     "data": {
      "text/plain": [
       "array([[1.+0.j, 0.+0.j],\n",
       "       [0.+0.j, 1.+0.j]])"
      ]
     },
     "execution_count": 14,
     "metadata": {},
     "output_type": "execute_result"
    }
   ],
   "source": [
    "#a)\n",
    "import numpy as np\n",
    "\n",
    "S = np.array([[1,0],[0,1j]])\n",
    "\n",
    "print(S.conj() @ S)\n",
    "#As we can see S is unitary"
   ]
  },
  {
   "cell_type": "markdown",
   "metadata": {},
   "source": [
    "## b)\n",
    "\n",
    "\n",
    "As we see $S$, with $$S = \\begin{bmatrix}\n",
    "1 & 0 \\\\\n",
    "0 & i\n",
    "\\end{bmatrix}$$, is a diagonal matrix.\n",
    " Therefore $$S^k = \\begin{bmatrix}\n",
    "1^k & 0 \\\\\n",
    "0 & i^k\n",
    "\\end{bmatrix}$$\n",
    "Now because $$S^k\\lvert 1 \\rangle$$ essentially extracts $S_{22}$, we have $$S^k\\lvert 1 \\rangle = i^k$$. From\n",
    "earlier we know that $$i^0 = 1\\\\ i^1 = i \\\\ i^2 = -1 \\\\ i^3 = -i\\\\ i^4 = 1$$\n",
    "\n"
   ]
  },
  {
   "cell_type": "markdown",
   "metadata": {},
   "source": [
    "### task 4.4 complex numbers as matrices\n",
    "\n",
    "#### 4.4 a)"
   ]
  },
  {
   "cell_type": "code",
   "execution_count": 4,
   "metadata": {},
   "outputs": [
    {
     "name": "stdout",
     "output_type": "stream",
     "text": [
      "c1 + c2 = (5+2j)\n",
      "c1 * c2 = (14+2j)\n",
      "c1* = (3-4j)\n",
      "|c1| = 5.0\n"
     ]
    }
   ],
   "source": [
    "import numpy as np\n",
    "\n",
    "c1 = 3 + 4j\n",
    "c2 = 2 - 2j\n",
    "\n",
    "print(\"c1 + c2 = \" + str(c1 + c2))\n",
    "print(\"c1 * c2 = \" + str(c1 * c2))\n",
    "print(\"c1* = \" +  str(c1.conjugate()))\n",
    "print(\"|c1| = \" + str(np.abs(c1)))\n"
   ]
  },
  {
   "cell_type": "markdown",
   "metadata": {},
   "source": [
    "#### 4.4 b)"
   ]
  },
  {
   "cell_type": "code",
   "execution_count": 14,
   "metadata": {},
   "outputs": [
    {
     "name": "stdout",
     "output_type": "stream",
     "text": [
      "1 = \n",
      "[[1 0]\n",
      " [0 1]]\n",
      "i = \n",
      "[[ 0 -1]\n",
      " [ 1  0]]\n",
      "c1 = \n",
      "[[ 3. -4.]\n",
      " [ 4.  3.]]\n",
      "c2 = \n",
      "[[ 2.  2.]\n",
      " [-2.  2.]]\n",
      "c1 + c2 = \n",
      "[[ 5. -2.]\n",
      " [ 2.  5.]]\n",
      "c1 * c2 = \n",
      "[[14. -2.]\n",
      " [ 2. 14.]]\n",
      "c1^T = \n",
      "[[ 3.  4.]\n",
      " [-4.  3.]]\n",
      "sqrt(det(c1)) = \n",
      "5.000000000000001\n"
     ]
    }
   ],
   "source": [
    "mat_1 = np.array([[1, 0], [0, 1]])\n",
    "mat_i = np.array([[0, -1], [1, 0]])\n",
    "mat_c1 = c1.real * mat_1 + c1.imag * mat_i\n",
    "mat_c2 = c2.real * mat_1 + c2.imag * mat_i\n",
    "\n",
    "print(\"1 = \")\n",
    "print(str(mat_1))\n",
    "print(\"i = \" )\n",
    "print( str(mat_i))\n",
    "print(\"c1 = \" )\n",
    "print( str(mat_c1))\n",
    "print(\"c2 = \" )\n",
    "print( str(mat_c2))\n",
    "print(\"c1 + c2 = \" )\n",
    "print( str(mat_c1 + mat_c2))\n",
    "print(\"c1 * c2 = \" )\n",
    "print( str(np.matmul(mat_c1, mat_c2)))\n",
    "print(\"c1^T = \" )\n",
    "print( str(mat_c1.T))\n",
    "print(\"sqrt(det(c1)) = \" )\n",
    "print( str(np.sqrt(np.linalg.det(mat_c1))))"
   ]
  },
  {
   "cell_type": "markdown",
   "metadata": {},
   "source": [
    "The results of matrix addition, multiplication, transposition and the square root of the determinant correspond to the results of complex addition, multiplication, conjugation and taking the absolute value, respectively."
   ]
  },
  {
   "cell_type": "markdown",
   "metadata": {},
   "source": [
    "### 4.6\n",
    "#### 4.6 a) "
   ]
  },
  {
   "cell_type": "code",
   "execution_count": 13,
   "metadata": {},
   "outputs": [
    {
     "name": "stdout",
     "output_type": "stream",
     "text": [
      "1 = \n",
      "[[1 0 0 0]\n",
      " [0 1 0 0]\n",
      " [0 0 1 0]\n",
      " [0 0 0 1]]\n",
      "i = \n",
      "[[ 0 -1  0  0]\n",
      " [ 1  0  0  0]\n",
      " [ 0  0  0 -1]\n",
      " [ 0  0  1  0]]\n",
      "j = \n",
      "[[ 0  0 -1  0]\n",
      " [ 0  0  0  1]\n",
      " [ 1  0  0  0]\n",
      " [ 0 -1  0  0]]\n",
      "k = \n",
      "[[ 0  0  0 -1]\n",
      " [ 0  0 -1  0]\n",
      " [ 0  1  0  0]\n",
      " [ 1  0  0  0]]\n",
      "ijk = \n",
      "[[-1  0  0  0]\n",
      " [ 0 -1  0  0]\n",
      " [ 0  0 -1  0]\n",
      " [ 0  0  0 -1]]\n"
     ]
    }
   ],
   "source": [
    "import numpy as np\n",
    "\n",
    "mat_1 = np.array([[1, 0, 0, 0],\n",
    "                  [0, 1, 0, 0],\n",
    "                  [0, 0, 1, 0],\n",
    "                  [0, 0, 0, 1]])\n",
    "\n",
    "mat_i = np.array([[0, -1, 0, 0],\n",
    "                  [1, 0, 0, 0],\n",
    "                  [0, 0, 0, -1],\n",
    "                  [0, 0, 1, 0]])\n",
    "\n",
    "mat_j = np.array([[0, 0, -1, 0],\n",
    "                  [0, 0, 0, 1],\n",
    "                  [1, 0, 0, 0],\n",
    "                  [0, -1, 0, 0]])\n",
    "\n",
    "mat_k = np.array([[0, 0, 0, -1],\n",
    "                  [0, 0, -1, 0],\n",
    "                  [0, 1, 0, 0],\n",
    "                  [1, 0, 0, 0]])\n",
    "\n",
    "print(\"1 = \")\n",
    "print(mat_1)\n",
    "print(\"i = \")\n",
    "print(mat_i)\n",
    "print(\"j = \")\n",
    "print(mat_j)\n",
    "print(\"k = \")\n",
    "print(mat_k)\n",
    "\n",
    "ijk = np.matmul(np.matmul(mat_i, mat_j), mat_k)\n",
    "print(\"ijk = \")\n",
    "print(ijk)"
   ]
  },
  {
   "cell_type": "markdown",
   "metadata": {},
   "source": [
    "The result of $ijk$ is $-I_4$ which corresponds to -1 which fulfills the quaternion multiplication rule for $ijk$.\n",
    "\n",
    "#### 4.6 b)"
   ]
  },
  {
   "cell_type": "code",
   "execution_count": 16,
   "metadata": {},
   "outputs": [
    {
     "name": "stdout",
     "output_type": "stream",
     "text": [
      "1 = \n",
      "[[1 0]\n",
      " [0 1]]\n",
      "i = \n",
      "[[ 0.+1.j  0.+0.j]\n",
      " [ 0.+0.j -0.-1.j]]\n",
      "j = \n",
      "[[ 0  1]\n",
      " [-1  0]]\n",
      "k = \n",
      "[[0.+0.j 0.+1.j]\n",
      " [0.+1.j 0.+0.j]]\n",
      "ijk = \n",
      "[[-1.+0.j  0.+0.j]\n",
      " [ 0.+0.j -1.+0.j]]\n"
     ]
    }
   ],
   "source": [
    "import numpy as np\n",
    "\n",
    "mat_1 = np.array([[1, 0], [0, 1]])\n",
    "mat_i = np.array([[1j, 0], [0, -1j]])\n",
    "mat_j = np.array([[0, 1], [-1, 0]])\n",
    "mat_k = np.array([[0, 1j], [1j, 0]])\n",
    "\n",
    "ijk = np.matmul(np.matmul(mat_i, mat_j), mat_k)\n",
    "\n",
    "print(\"1 = \")\n",
    "print(mat_1)\n",
    "print(\"i = \")\n",
    "print(mat_i)\n",
    "print(\"j = \")\n",
    "print(mat_j)\n",
    "print(\"k = \")\n",
    "print(mat_k)\n",
    "print(\"ijk = \")\n",
    "print(ijk)"
   ]
  },
  {
   "cell_type": "markdown",
   "metadata": {},
   "source": [
    "The result of $ijk$ is $-I_2$ which corresponds to -1 which fulfills the quaternion multiplication rule for $ijk$."
   ]
  },
  {
   "cell_type": "code",
   "execution_count": 18,
   "metadata": {},
   "outputs": [
    {
     "data": {
      "text/plain": [
       "(['1', '-1', 'i', '-i', 'j', '-j', 'k', '-k'],\n",
       " [['1', '-1', 'i', '-i', 'j', '-j', 'k', '-k'],\n",
       "  ['-1', '1', '-i', 'i', '-j', 'j', '-k', 'k'],\n",
       "  ['i', '-i', '-1', '1', 'k', '-k', '-j', 'j'],\n",
       "  ['-i', 'i', '1', '-1', '-k', 'k', 'j', '-j'],\n",
       "  ['j', '-j', '-k', 'k', '-1', '1', 'i', '-i'],\n",
       "  ['-j', 'j', 'k', '-k', '1', '-1', '-i', 'i'],\n",
       "  ['k', '-k', 'j', '-j', '-i', 'i', '-1', '1'],\n",
       "  ['-k', 'k', '-j', 'j', 'i', '-i', '1', '-1']])"
      ]
     },
     "execution_count": 18,
     "metadata": {},
     "output_type": "execute_result"
    }
   ],
   "source": [
    "# Define the complete set of quaternion elements as 2x2 complex matrices\n",
    "quaternion_set = {\n",
    "    \"1\": mat_1,\n",
    "    \"-1\": -mat_1,\n",
    "    \"i\": mat_i,\n",
    "    \"-i\": -mat_i,\n",
    "    \"j\": mat_j,\n",
    "    \"-j\": -mat_j,\n",
    "    \"k\": mat_k,\n",
    "    \"-k\": -mat_k,\n",
    "}\n",
    "\n",
    "# List of quaternion labels\n",
    "labels = list(quaternion_set.keys())\n",
    "\n",
    "# Initialize an empty result table\n",
    "cayley_table = []\n",
    "\n",
    "# Compute the Cayley table by pairwise multiplication\n",
    "for row_label in labels:\n",
    "    row = []\n",
    "    for col_label in labels:\n",
    "        # Multiply the corresponding matrices\n",
    "        result = np.dot(quaternion_set[row_label], quaternion_set[col_label])\n",
    "        # Match the result to a quaternion symbol in the set\n",
    "        for key, value in quaternion_set.items():\n",
    "            if np.allclose(result, value):  # Check matrix equality\n",
    "                row.append(key)\n",
    "                break\n",
    "    cayley_table.append(row)\n",
    "\n",
    "# Display the Cayley table\n",
    "labels, cayley_table\n"
   ]
  },
  {
   "cell_type": "markdown",
   "metadata": {},
   "source": [
    "$Q_8$ does not seem to be an Abelian Group because the Cayley table is not symmetric."
   ]
  },
  {
   "cell_type": "markdown",
   "metadata": {},
   "source": [
    "## task 4.7: vector Logic (10 Points)\n",
    "\n",
    "Vector logic was developed by the Uruguayan mathematician Eduardo Mizraji. Following his framework, we represent the two truth values `false` and `true` as orthonormal vectors:\n",
    "\n",
    "$$\n",
    "\\text{false} \\equiv n =\n",
    "\\begin{bmatrix}\n",
    "1 \\\\\n",
    "0\n",
    "\\end{bmatrix}\n",
    "\\quad \\text{(\"no\")}\n",
    "$$\n",
    "\n",
    "$$\n",
    "\\text{true} \\equiv s =\n",
    "\\begin{bmatrix}\n",
    "0 \\\\\n",
    "1\n",
    "\\end{bmatrix}\n",
    "\\quad \\text{(\"si\")}\n",
    "$$\n",
    "\n",
    "Now, to further explore Mizraji's framework, we first of all need to recall that the `outer product` $xy^T$ of two vectors $x \\in \\mathbb{R}^m$ and $y\\in \\mathbb{R}^n$ produces a matrix $Z \\in \\mathbb{R}^{m \\times n}$ such that \n",
    "$$\n",
    "xy^T = Z = \n",
    "\\begin{bmatrix}\n",
    "x_1\\,y_1 & x_1\\,y_2 & \\cdots & x_1\\,y_n \\\\\n",
    "x_2\\,y_1 & x_2\\,y_2 & \\cdots & x_2\\,y_n \\\\\n",
    "\\vdots & \\vdots & \\ddots & \\vdots \\\\\n",
    "x_m\\,y_1 & x_m\\,y_2 & \\cdots & x_m\\,y_n\n",
    "\\end{bmatrix}\n",
    "$$\n",
    "Second of all, we need to recall that the `Kronecker product` $x\\otimes y$ of two vectors $x \\in \\mathbb{R}^m$ and $y \\in \\mathbb{R}^n$ produces a vector $z \\in \\mathbb{R}^{m n}$ such that\n",
    "$$\n",
    "x \\otimes y = z = \n",
    "\\begin{bmatrix}\n",
    "x_1\\,y \\\\ x_2\\,y \\\\ \\vdots \\\\ x_m\\,y\n",
    "\\end{bmatrix}\n",
    "$$"
   ]
  },
  {
   "cell_type": "code",
   "execution_count": 2,
   "metadata": {},
   "outputs": [],
   "source": [
    "import numpy as np\n",
    "\n",
    "vecN = np.array([[1], [0]])\n",
    "vecS = np.array([[0], [1]])"
   ]
  },
  {
   "cell_type": "markdown",
   "metadata": {},
   "source": [
    "### (a) [4 Points]\n",
    "Compute the two matrices $C$ and $D$:\n",
    "\n",
    "$$\n",
    "C = n[n \\otimes n]^T + n[n \\otimes s]^T + n[s \\otimes n]^T + s[s \\otimes s]^T\n",
    "$$\n",
    "\n",
    "$$\n",
    "D = n[n \\otimes n]^T + s[n \\otimes s]^T + s[s \\otimes n]^T + s[s \\otimes s]^T\n",
    "$$\n"
   ]
  },
  {
   "cell_type": "code",
   "execution_count": 7,
   "metadata": {},
   "outputs": [
    {
     "name": "stdout",
     "output_type": "stream",
     "text": [
      "Matrix C: \n",
      " [[1 1 1 0]\n",
      " [0 0 0 1]]\n",
      "\n",
      "Matrix D: \n",
      " [[1 0 0 0]\n",
      " [0 1 1 1]]\n"
     ]
    }
   ],
   "source": [
    "matC = np.outer(vecN, np.kron(vecN, vecN)) + \\\n",
    "        np.outer(vecN, np.kron(vecN, vecS)) + \\\n",
    "        np.outer(vecN, np.kron(vecS, vecN)) + \\\n",
    "        np.outer(vecS, np.kron(vecS, vecS))\n",
    "\n",
    "matD = np.outer(vecN, np.kron(vecN, vecN)) + \\\n",
    "        np.outer(vecS, np.kron(vecN, vecS)) + \\\n",
    "        np.outer(vecS, np.kron(vecS, vecN)) + \\\n",
    "        np.outer(vecS, np.kron(vecS, vecS))\n",
    "\n",
    "print(f'Matrix C: \\n {matC}')\n",
    "print(f'\\nMatrix D: \\n {matD}')"
   ]
  },
  {
   "cell_type": "markdown",
   "metadata": {},
   "source": [
    "### (b) [4 Points]\n",
    "Given the matrices $C$ and $D$, consider two vectors $x_1, x_2 \\in \\{n, s\\}$ and compute the results of the functions:\n",
    "\n",
    "$$\n",
    "f_C(x_1, x_2) = C[x_1 \\otimes x_2]\n",
    "$$\n",
    "\n",
    "$$\n",
    "f_D(x_1, x_2) = D[x_1 \\otimes x_2]\n",
    "$$"
   ]
  },
  {
   "cell_type": "code",
   "execution_count": 18,
   "metadata": {},
   "outputs": [
    {
     "name": "stdout",
     "output_type": "stream",
     "text": [
      "\n",
      "Results for f_C:\n",
      "f_C([[1 0]], [[1 0]]) = [[1 0]]\n",
      "f_C([[1 0]], [[0 1]]) = [[1 0]]\n",
      "f_C([[0 1]], [[1 0]]) = [[1 0]]\n",
      "f_C([[0 1]], [[0 1]]) = [[0 1]]\n",
      "\n",
      "Results for f_D:\n",
      "f_D([[1 0]], [[1 0]]) = [[1 0]]\n",
      "f_D([[1 0]], [[0 1]]) = [[0 1]]\n",
      "f_D([[0 1]], [[1 0]]) = [[0 1]]\n",
      "f_D([[0 1]], [[0 1]]) = [[0 1]]\n"
     ]
    }
   ],
   "source": [
    "# Define a general function to compute f for any given matrix M\n",
    "def f(M, x1, x2):\n",
    "    return M @ np.kron(x1, x2)\n",
    "\n",
    "# Compute the results for all combinations of x1, x2 in {n, s}\n",
    "x_values = [(vecN, vecN), (vecN, vecS), (vecS, vecN), (vecS, vecS)]\n",
    "\n",
    "print(\"\\nResults for f_C:\")\n",
    "for x1, x2 in x_values:\n",
    "    result = f(matC, x1, x2)\n",
    "    print(f\"f_C({x1.T}, {x2.T}) = {result.T}\")\n",
    "\n",
    "print(\"\\nResults for f_D:\")\n",
    "for x1, x2 in x_values:\n",
    "    result = f(matD, x1, x2)\n",
    "    print(f\"f_D({x1.T}, {x2.T}) = {result.T}\")"
   ]
  },
  {
   "cell_type": "markdown",
   "metadata": {},
   "source": [
    "Looking at your results, which Boolean (logic) functions would you\n",
    "say do  $f_C$ and $f_D$ represent?\n",
    "\n",
    "Note that $n=[1 \\ 0]$ represents the boolean value false and $s=[0 \\ 1]$ true. Then:\n",
    "\n",
    "- $f_C$ represents the `AND` logic function.\n",
    "- $f_D$ represents the `OR` logic function."
   ]
  },
  {
   "cell_type": "markdown",
   "metadata": {},
   "source": [
    "### (c) [2 Points]\n",
    "In order to explore whether your results are dependent on our particular choices for $n$ and $s$, repeat the above procedure but this time with the vectors\n",
    "\n",
    "$$\n",
    "n = \n",
    "\\begin{bmatrix}\n",
    "1 \\\\\n",
    "0 \\\\\n",
    "0\n",
    "\\end{bmatrix}, \\quad s =\n",
    "\\begin{bmatrix}\n",
    "0 \\\\\n",
    "0 \\\\\n",
    "1\n",
    "\\end{bmatrix}\n",
    "$$\n",
    "\n",
    "For the fun of it, repeat the above procedure two more times, first using\n",
    "\n",
    "$$\n",
    "n = \\frac{1}{\\sqrt{2}}\n",
    "\\begin{bmatrix}\n",
    "+1 \\\\\n",
    "-1\n",
    "\\end{bmatrix}, \\quad s = \\frac{1}{\\sqrt{2}}\n",
    "\\begin{bmatrix}\n",
    "+1 \\\\\n",
    "+1\n",
    "\\end{bmatrix}\n",
    "$$\n",
    "\n",
    "and then \n",
    "\n",
    "$$\n",
    "n = \\frac{1}{\\sqrt{2}}\n",
    "\\begin{bmatrix}\n",
    "+i \\\\\n",
    "-i\n",
    "\\end{bmatrix}, \\quad s = \\frac{1}{\\sqrt{2}}\n",
    "\\begin{bmatrix}\n",
    "+i \\\\\n",
    "+i\n",
    "\\end{bmatrix}\n",
    "$$"
   ]
  },
  {
   "cell_type": "code",
   "execution_count": 15,
   "metadata": {},
   "outputs": [],
   "source": [
    "def compute_C_D(n, s):\n",
    "    n_otimes_n = np.kron(n, n)\n",
    "    n_otimes_s = np.kron(n, s)\n",
    "    s_otimes_n = np.kron(s, n)\n",
    "    s_otimes_s = np.kron(s, s)\n",
    "\n",
    "    C = n @ n_otimes_n.T + n @ n_otimes_s.T + n @ s_otimes_n.T + s @ s_otimes_s.T\n",
    "    D = n @ n_otimes_n.T + s @ n_otimes_s.T + s @ s_otimes_n.T + s @ s_otimes_s.T\n",
    "    \n",
    "    return C, D\n",
    "\n",
    "def evaluate_logic(n, s):\n",
    "    C, D = compute_C_D(n, s)\n",
    "\n",
    "    print(\"\\nMatrix C:\\n\", C)\n",
    "    print(\"\\nMatrix D:\\n\", D)\n",
    "\n",
    "    x_values = [(n, n), (n, s), (s, n), (s, s)]\n",
    "\n",
    "    print(\"\\nResults for f_C:\")\n",
    "    for x1, x2 in x_values:\n",
    "        result = f(C, x1, x2)\n",
    "        print(f\"f_C({x1.T}, {x2.T}) = {result.T}\")\n",
    "\n",
    "    print(\"\\nResults for f_D:\")\n",
    "    for x1, x2 in x_values:\n",
    "        result = f(D, x1, x2)\n",
    "        print(f\"f_D({x1.T}, {x2.T}) = {result.T}\")"
   ]
  },
  {
   "cell_type": "code",
   "execution_count": 12,
   "metadata": {},
   "outputs": [
    {
     "name": "stdout",
     "output_type": "stream",
     "text": [
      "\n",
      "Matrix C:\n",
      " [[1 0 1 0 0 0 1 0 0]\n",
      " [0 0 0 0 0 0 0 0 0]\n",
      " [0 0 0 0 0 0 0 0 1]]\n",
      "\n",
      "Matrix D:\n",
      " [[1 0 0 0 0 0 0 0 0]\n",
      " [0 0 0 0 0 0 0 0 0]\n",
      " [0 0 1 0 0 0 1 0 1]]\n",
      "\n",
      "Results for f_C:\n",
      "f_C([[1 0 0]], [[1 0 0]]) = [[1 0 0]]\n",
      "f_C([[1 0 0]], [[0 0 1]]) = [[1 0 0]]\n",
      "f_C([[0 0 1]], [[1 0 0]]) = [[1 0 0]]\n",
      "f_C([[0 0 1]], [[0 0 1]]) = [[0 0 1]]\n",
      "\n",
      "Results for f_D:\n",
      "f_D([[1 0 0]], [[1 0 0]]) = [[1 0 0]]\n",
      "f_D([[1 0 0]], [[0 0 1]]) = [[0 0 1]]\n",
      "f_D([[0 0 1]], [[1 0 0]]) = [[0 0 1]]\n",
      "f_D([[0 0 1]], [[0 0 1]]) = [[0 0 1]]\n"
     ]
    }
   ],
   "source": [
    "# 1\n",
    "n1 = np.array([[1], [0], [0]])\n",
    "s1 = np.array([[0], [0], [1]])\n",
    "evaluate_logic(n1, s1)"
   ]
  },
  {
   "cell_type": "code",
   "execution_count": 13,
   "metadata": {},
   "outputs": [
    {
     "name": "stdout",
     "output_type": "stream",
     "text": [
      "\n",
      "Matrix C:\n",
      " [[ 1.41421356  0.          0.          0.        ]\n",
      " [-0.70710678  0.70710678  0.70710678  0.70710678]]\n",
      "\n",
      "Matrix D:\n",
      " [[ 1.41421356  0.          0.          0.        ]\n",
      " [ 0.70710678  0.70710678  0.70710678 -0.70710678]]\n",
      "\n",
      "Results for f_C:\n",
      "f_C([[ 0.70710678 -0.70710678]], [[ 0.70710678 -0.70710678]]) = [[ 0.70710678 -0.70710678]]\n",
      "f_C([[ 0.70710678 -0.70710678]], [[0.70710678 0.70710678]]) = [[ 0.70710678 -0.70710678]]\n",
      "f_C([[0.70710678 0.70710678]], [[ 0.70710678 -0.70710678]]) = [[ 0.70710678 -0.70710678]]\n",
      "f_C([[0.70710678 0.70710678]], [[0.70710678 0.70710678]]) = [[0.70710678 0.70710678]]\n",
      "\n",
      "Results for f_D:\n",
      "f_D([[ 0.70710678 -0.70710678]], [[ 0.70710678 -0.70710678]]) = [[ 0.70710678 -0.70710678]]\n",
      "f_D([[ 0.70710678 -0.70710678]], [[0.70710678 0.70710678]]) = [[0.70710678 0.70710678]]\n",
      "f_D([[0.70710678 0.70710678]], [[ 0.70710678 -0.70710678]]) = [[0.70710678 0.70710678]]\n",
      "f_D([[0.70710678 0.70710678]], [[0.70710678 0.70710678]]) = [[0.70710678 0.70710678]]\n"
     ]
    }
   ],
   "source": [
    "# 2\n",
    "n2 = (1 / np.sqrt(2)) * np.array([[1], [-1]])\n",
    "s2 = (1 / np.sqrt(2)) * np.array([[1], [1]])\n",
    "evaluate_logic(n2, s2)"
   ]
  },
  {
   "cell_type": "code",
   "execution_count": 14,
   "metadata": {},
   "outputs": [
    {
     "name": "stdout",
     "output_type": "stream",
     "text": [
      "\n",
      "Evaluating logic for third set of vectors (complex n and s):\n",
      "\n",
      "Matrix C:\n",
      " [[0.-1.41421356j 0.+0.j         0.+0.j         0.+0.j        ]\n",
      " [0.+0.70710678j 0.-0.70710678j 0.-0.70710678j 0.-0.70710678j]]\n",
      "\n",
      "Matrix D:\n",
      " [[0.-1.41421356j 0.+0.j         0.+0.j         0.+0.j        ]\n",
      " [0.-0.70710678j 0.-0.70710678j 0.-0.70710678j 0.+0.70710678j]]\n",
      "\n",
      "Results for f_C:\n",
      "f_C([[0.+0.70710678j 0.-0.70710678j]], [[0.+0.70710678j 0.-0.70710678j]]) = [[0.+0.70710678j 0.-0.70710678j]]\n",
      "f_C([[0.+0.70710678j 0.-0.70710678j]], [[0.+0.70710678j 0.+0.70710678j]]) = [[0.+0.70710678j 0.-0.70710678j]]\n",
      "f_C([[0.+0.70710678j 0.+0.70710678j]], [[0.+0.70710678j 0.-0.70710678j]]) = [[0.+0.70710678j 0.-0.70710678j]]\n",
      "f_C([[0.+0.70710678j 0.+0.70710678j]], [[0.+0.70710678j 0.+0.70710678j]]) = [[0.+0.70710678j 0.+0.70710678j]]\n",
      "\n",
      "Results for f_D:\n",
      "f_D([[0.+0.70710678j 0.-0.70710678j]], [[0.+0.70710678j 0.-0.70710678j]]) = [[0.+0.70710678j 0.-0.70710678j]]\n",
      "f_D([[0.+0.70710678j 0.-0.70710678j]], [[0.+0.70710678j 0.+0.70710678j]]) = [[0.+0.70710678j 0.+0.70710678j]]\n",
      "f_D([[0.+0.70710678j 0.+0.70710678j]], [[0.+0.70710678j 0.-0.70710678j]]) = [[0.+0.70710678j 0.+0.70710678j]]\n",
      "f_D([[0.+0.70710678j 0.+0.70710678j]], [[0.+0.70710678j 0.+0.70710678j]]) = [[0.+0.70710678j 0.+0.70710678j]]\n"
     ]
    }
   ],
   "source": [
    "# 3\n",
    "n3 = (1 / np.sqrt(2)) * np.array([[1j], [-1j]])\n",
    "s3 = (1 / np.sqrt(2)) * np.array([[1j], [1j]])\n",
    "print(\"\\nEvaluating logic for third set of vectors (complex n and s):\")\n",
    "evaluate_logic(n3, s3)"
   ]
  },
  {
   "cell_type": "markdown",
   "metadata": {},
   "source": [
    "What do you observe? Does the representation of `false / no` and `true / si` impact the logic of the results produced by this method? What would happen if $n$ and $s$ were not orthonormal?\n",
    "\n",
    "1. 3-dimensional n and s (still representing si and no):\n",
    "    - n and s are still orthonormal basis vectors\n",
    "    - analogous to `false` and `true` the function $f_C$ and $f_D$ still behaved similarly to the `AND` and `OR` logic\n",
    "\n",
    "2. 2D normalized vectors:\n",
    "    - the behavior of $f_C$ and $f_D$ continued to resemble the `AND` and `OR` operations respectively\n",
    "    - this indicates that as long as the vectors are orthonormal, the exact values do not significantly impact the type of logic operation represented\n",
    "\n",
    "3. Complex $n$ and $s$:\n",
    "    - $f_C$ and $f_D$ are still consistent with `AND` and `OR`\n",
    "\n",
    "Conlusion:\n",
    "- Dimensionality of the representation of `false` and `true` does not impact the logic as long as $n$ and $s$ remain orthonormal\n",
    "- Orthonormal vectors ensure that the Kronecker product and subsequent operations can clearly separate the contributions of `true` and `false` values in the matrices $C$ and $D$\n",
    "- Normalization ensures that the magnitude of the vectors is consistent, which helps in preserving the interpretation of the logic functions as binary outcomes\n",
    "- If $n$ and $s$ are not orthonormal, the distinction between true and false becomes ambiguous, and the results may not clearly correspond to logical operations"
   ]
  },
  {
   "cell_type": "markdown",
   "metadata": {},
   "source": [
    "## task 4.9: more vector logic (10 points)\n",
    "\n",
    "In task 4.7, we represented the truth values `false` and `true` in terms of orthonormal vectors $n$ and $s$ and then considered bivariate Boolean (logic) functions $f: \\{n, s\\}^2 → \\{n, s\\}$.\n",
    "\n",
    "In this task, we will take a step back and work with univariate Boolean functions $f: \\{n, s\\} → \\{n, s\\}$. To this end, consider the following matrices:\n",
    "\n",
    "$$\n",
    "I = nn^T + ss^T\n",
    "$$\n",
    "\n",
    "$$\n",
    "N = ns^T + sn^T\n",
    "$$\n",
    "\n",
    "$$\n",
    "F = nn^T + ns^T\n",
    "$$\n",
    "\n",
    "$$\n",
    "T = sn^T + ss^T\n",
    "$$"
   ]
  },
  {
   "cell_type": "code",
   "execution_count": 19,
   "metadata": {},
   "outputs": [
    {
     "name": "stdout",
     "output_type": "stream",
     "text": [
      "Matrix I:\n",
      " [[1 0]\n",
      " [0 1]]\n",
      "Matrix N:\n",
      " [[0 1]\n",
      " [1 0]]\n",
      "Matrix F:\n",
      " [[1 1]\n",
      " [0 0]]\n",
      "Matrix T:\n",
      " [[0 0]\n",
      " [1 1]]\n"
     ]
    }
   ],
   "source": [
    "import numpy as np\n",
    "\n",
    "n = np.array([[1], [0]])\n",
    "s = np.array([[0], [1]])\n",
    "\n",
    "I = np.dot(n, n.T) + np.dot(s, s.T)\n",
    "N = np.dot(n, s.T) + np.dot(s, n.T)\n",
    "F = np.dot(n, n.T) + np.dot(n, s.T)\n",
    "T = np.dot(s, n.T) + np.dot(s, s.T)\n",
    "\n",
    "print(\"Matrix I:\\n\", I)\n",
    "print(\"Matrix N:\\n\", N)\n",
    "print(\"Matrix F:\\n\", F)\n",
    "print(\"Matrix T:\\n\", T)"
   ]
  },
  {
   "cell_type": "markdown",
   "metadata": {},
   "source": [
    "### a) [2 points]\n",
    "Given the above matrices, consider a vector $x \\in \\{n, s\\}$ and feed it into the functions:\n",
    "\n",
    "- $$f_0(x) = Fx$$\n",
    "- $$f_1(x) = Ix$$\n",
    "- $$f_2(x) = Nx$$\n",
    "- $$f_3(x) = Tx$$"
   ]
  },
  {
   "cell_type": "code",
   "execution_count": 24,
   "metadata": {},
   "outputs": [
    {
     "name": "stdout",
     "output_type": "stream",
     "text": [
      "\n",
      "Results for f_0:\n",
      "f_0(n) = [[1 0]]\n",
      "f_0(s) = [[1 0]]\n",
      "\n",
      "Results for f_1:\n",
      "f_1(n) = [[1 0]]\n",
      "f_1(s) = [[0 1]]\n",
      "\n",
      "Results for f_2:\n",
      "f_2(n) = [[0 1]]\n",
      "f_2(s) = [[1 0]]\n",
      "\n",
      "Results for f_3:\n",
      "f_3(n) = [[0 1]]\n",
      "f_3(s) = [[0 1]]\n"
     ]
    }
   ],
   "source": [
    "def mat_vec_multi(matrix, vector):\n",
    "    return np.dot(matrix, vector)\n",
    "\n",
    "vectors = {'n': n, 's': s}\n",
    "matrices = {'f_0': F, 'f_1': I, 'f_2': N, 'f_3': T}\n",
    "\n",
    "for func_name, matrix in matrices.items():\n",
    "    print(f\"\\nResults for {func_name}:\")\n",
    "    for vec_name, vec in vectors.items():\n",
    "        result = mat_vec_multi(matrix, vec).T\n",
    "        print(f\"{func_name}({vec_name}) = {result}\")\n"
   ]
  },
  {
   "cell_type": "markdown",
   "metadata": {},
   "source": [
    "What do you observe? Briefly discuss which Boolean functions the $f_j(x), j \\in \\{0, 1, 2, 3\\}$ actually compute.\n",
    "\n",
    "- $f_0(x)$: constant false function\n",
    "- $f_1(x)$: identity function\n",
    "- $f_2(x)$: negation function\n",
    "- $f_3(x)$: constant true function"
   ]
  },
  {
   "cell_type": "markdown",
   "metadata": {},
   "source": [
    "### b) [6 points]\n",
    "Given what you saw in (the voluntary) Task 4.8, show only via symbolic manipulations (!) that matrices $C$ and $D$ from Task 4.7 can also be computed as:\n",
    "\n",
    "$$\n",
    "C = F \\otimes n^T + I \\otimes s^T\n",
    "$$\n",
    "\n",
    "$$\n",
    "D = I \\otimes n^T + T \\otimes s^T\n",
    "$$\n",
    "\n",
    "**Given:**\n",
    "$$\n",
    "n = \\begin{bmatrix}1 \\\\ 0\\end{bmatrix}, \\quad s = \\begin{bmatrix}0 \\\\ 1\\end{bmatrix}\n",
    "$$\n",
    "\n",
    "$$\n",
    "F = n n^T + n s^T, \\quad I = n n^T + s s^T, \\quad T = s n^T + s s^T\n",
    "$$\n",
    "\n",
    "**and definitions:**\n",
    "$$\n",
    "C = n [n \\otimes n]^T + n [n \\otimes s]^T + n [s \\otimes n]^T + s [s \\otimes s]^T\n",
    "$$\n",
    "$$\n",
    "D = n [n \\otimes n]^T + s [n \\otimes s]^T + s [s \\otimes n]^T + s [s \\otimes s]^T\n",
    "$$\n",
    "\n",
    "**Transpose of Kronecker products:**\n",
    "$$\n",
    "(x \\otimes y)^T = x^T \\otimes y^T\n",
    "$$\n",
    "\n",
    "Apply this to each term inside $C$ and $D$:\n",
    "\n",
    "$$\n",
    "(n \\otimes n)^T = n^T \\otimes n^T, \\quad\n",
    "(n \\otimes s)^T = n^T \\otimes s^T, \\quad\n",
    "(s \\otimes n)^T = s^T \\otimes n^T, \\quad\n",
    "(s \\otimes s)^T = s^T \\otimes s^T\n",
    "$$\n",
    "\n",
    "#### **(1) Substitute into $C$:**\n",
    "$$\n",
    "C = n(n^T \\otimes n^T) + n(n^T \\otimes s^T) + n(s^T \\otimes n^T) + s(s^T \\otimes s^T)\n",
    "$$\n",
    "\n",
    "Factor each term:\n",
    "- $$ n(n^T \\otimes n^T) = (n n^T) \\otimes n^T $$\n",
    "- $$ n(n^T \\otimes s^T) = (n n^T) \\otimes s^T $$\n",
    "- $$ n(s^T \\otimes n^T) = (n s^T) \\otimes n^T $$\n",
    "- $$ s(s^T \\otimes s^T) = (s s^T) \\otimes s^T $$\n",
    "\n",
    "Thus:\n",
    "$$\n",
    "C = (n n^T \\otimes n^T) + (n n^T \\otimes s^T) + (n s^T \\otimes n^T) + (s s^T \\otimes s^T)\n",
    "$$\n",
    "\n",
    "Group terms by $\\otimes n^T$ and $\\otimes s^T$:\n",
    "$$\n",
    "C = [(n n^T + n s^T) \\otimes n^T] + [(n n^T + s s^T) \\otimes s^T]\n",
    "$$\n",
    "\n",
    "Recognize that:\n",
    "$$\n",
    "n n^T + n s^T = F, \\quad n n^T + s s^T = I\n",
    "$$\n",
    "\n",
    "Substitute:\n",
    "$$\n",
    "C = F \\otimes n^T + I \\otimes s^T\n",
    "$$\n",
    "\n",
    "#### **(2) Substitute into $D$:**\n",
    "$$\n",
    "D = n(n^T \\otimes n^T) + s(n^T \\otimes s^T) + s(s^T \\otimes n^T) + s(s^T \\otimes s^T)\n",
    "$$\n",
    "\n",
    "Factor each term like before. Thus:\n",
    "$$\n",
    "D = (n n^T \\otimes n^T) + (s n^T \\otimes s^T) + (s s^T \\otimes n^T) + (s s^T \\otimes s^T)\n",
    "$$\n",
    "\n",
    "Group terms by $\\otimes n^T$ and $\\otimes s^T$:\n",
    "$$\n",
    "D = [(n n^T + s s^T) \\otimes n^T] + [(s n^T + s s^T) \\otimes s^T]\n",
    "$$\n",
    "\n",
    "Recognize that:\n",
    "$$\n",
    "n n^T + s s^T = I, \\quad s n^T + s s^T = T\n",
    "$$\n",
    "\n",
    "Substitute:\n",
    "$$\n",
    "D = I \\otimes n^T + T \\otimes s^T\n",
    "$$\n"
   ]
  },
  {
   "cell_type": "markdown",
   "metadata": {},
   "source": [
    "### c) [2 points]\n",
    "Prove the following:\n",
    "\n",
    "If matrices $N$ and $D$ are given, we can compute matrix $C$ as:\n",
    "\n",
    "$$\n",
    "C = ND \\cdot (N \\otimes N)\n",
    "$$\n",
    "\n",
    "and, if matrices $N$ and $C$ are given, we can compute matrix $D$ as:\n",
    "\n",
    "$$\n",
    "D = NC \\cdot (N \\otimes N)\n",
    "$$\n",
    "\n",
    "**Note:** Symbolically, these proofs require very careful thinking, so you may just do them computationally."
   ]
  },
  {
   "cell_type": "code",
   "execution_count": 30,
   "metadata": {},
   "outputs": [
    {
     "name": "stdout",
     "output_type": "stream",
     "text": [
      "Matrix C:\n",
      " [[1 1 1 0]\n",
      " [0 0 0 1]]\n",
      "Matrix D:\n",
      " [[1 0 0 0]\n",
      " [0 1 1 1]]\n",
      "\n",
      "Matrix C computed from N and D:\n",
      "[[1 1 1 0]\n",
      " [0 0 0 1]]\n",
      "Matrix D computed from N and C:\n",
      "[[1 0 0 0]\n",
      " [0 1 1 1]]\n"
     ]
    }
   ],
   "source": [
    "# Symbolic representation of matrices C and D from task 4.7\n",
    "print(f'Matrix C:\\n {matC}')\n",
    "print(f'Matrix D:\\n {matD}')\n",
    "\n",
    "C_from_ND = np.dot(N, np.dot(matD, np.kron(N, N)))\n",
    "D_from_NC = np.dot(N, np.dot(matC, np.kron(N, N)))\n",
    "\n",
    "print(f\"\\nMatrix C computed from N and D:\\n{C_from_ND}\")\n",
    "print(f\"Matrix D computed from N and C:\\n{D_from_NC}\")"
   ]
  },
  {
   "cell_type": "markdown",
   "metadata": {},
   "source": []
  },
  {
   "cell_type": "markdown",
   "metadata": {},
   "source": [
    "#### 4.10\n",
    "\n"
   ]
  },
  {
   "cell_type": "code",
   "execution_count": 21,
   "metadata": {},
   "outputs": [
    {
     "data": {
      "text/html": [
       "<div>\n",
       "<style scoped>\n",
       "    .dataframe tbody tr th:only-of-type {\n",
       "        vertical-align: middle;\n",
       "    }\n",
       "\n",
       "    .dataframe tbody tr th {\n",
       "        vertical-align: top;\n",
       "    }\n",
       "\n",
       "    .dataframe thead th {\n",
       "        text-align: right;\n",
       "    }\n",
       "</style>\n",
       "<table border=\"1\" class=\"dataframe\">\n",
       "  <thead>\n",
       "    <tr style=\"text-align: right;\">\n",
       "      <th></th>\n",
       "      <th>$x_1$</th>\n",
       "      <th>$x_2$</th>\n",
       "      <th>$x_1 \\otimes x_2$</th>\n",
       "      <th>$M[x_1 \\otimes x_2]$</th>\n",
       "      <th>$\\Pi_{2}M[x_1 \\otimes x_2]$</th>\n",
       "    </tr>\n",
       "  </thead>\n",
       "  <tbody>\n",
       "    <tr>\n",
       "      <th>0</th>\n",
       "      <td>$n$</td>\n",
       "      <td>$n$</td>\n",
       "      <td>[1, 0, 0, 0]</td>\n",
       "      <td>[1, 0, 0, 0]</td>\n",
       "      <td>[1, 0]</td>\n",
       "    </tr>\n",
       "    <tr>\n",
       "      <th>1</th>\n",
       "      <td>$n$</td>\n",
       "      <td>$s$</td>\n",
       "      <td>[0, 1, 0, 0]</td>\n",
       "      <td>[0, 1, 0, 0]</td>\n",
       "      <td>[0, 1]</td>\n",
       "    </tr>\n",
       "    <tr>\n",
       "      <th>2</th>\n",
       "      <td>$s$</td>\n",
       "      <td>$n$</td>\n",
       "      <td>[0, 0, 1, 0]</td>\n",
       "      <td>[0, 0, 0, 1]</td>\n",
       "      <td>[0, 1]</td>\n",
       "    </tr>\n",
       "    <tr>\n",
       "      <th>3</th>\n",
       "      <td>$s$</td>\n",
       "      <td>$s$</td>\n",
       "      <td>[0, 0, 0, 1]</td>\n",
       "      <td>[0, 0, 1, 0]</td>\n",
       "      <td>[1, 0]</td>\n",
       "    </tr>\n",
       "  </tbody>\n",
       "</table>\n",
       "</div>"
      ],
      "text/plain": [
       "  $x_1$ $x_2$ $x_1 \\otimes x_2$ $M[x_1 \\otimes x_2]$  \\\n",
       "0   $n$   $n$      [1, 0, 0, 0]         [1, 0, 0, 0]   \n",
       "1   $n$   $s$      [0, 1, 0, 0]         [0, 1, 0, 0]   \n",
       "2   $s$   $n$      [0, 0, 1, 0]         [0, 0, 0, 1]   \n",
       "3   $s$   $s$      [0, 0, 0, 1]         [0, 0, 1, 0]   \n",
       "\n",
       "  $\\Pi_{2}M[x_1 \\otimes x_2]$  \n",
       "0                      [1, 0]  \n",
       "1                      [0, 1]  \n",
       "2                      [0, 1]  \n",
       "3                      [1, 0]  "
      ]
     },
     "execution_count": 21,
     "metadata": {},
     "output_type": "execute_result"
    }
   ],
   "source": [
    "import numpy as np\n",
    "import pandas as pd\n",
    "n = np.array([1,0])\n",
    "s = np.array([0,1])\n",
    "\n",
    "I = np.outer(n,n) + np.outer(s,s)\n",
    "N = np.outer(n,s) + np.outer(s,n)\n",
    "M = np.kron(np.outer(n,n), I) + np.kron(np.outer(s,s), N)\n",
    "Pi_2 = np.kron((n + s).T, I)\n",
    "\n",
    "op_1 = [np.kron(n,n), np.kron(n,s), np.kron(s,n), np.kron(s,s)]\n",
    "op_2 = [np.matmul(M, np.kron(n,n)),\n",
    "        np.matmul(M, np.kron(n,s)),\n",
    "        np.matmul(M, np.kron(s,n)),\n",
    "        np.matmul(M, np.kron(s,s))]\n",
    "op_3 = [np.matmul(Pi_2, np.matmul(M, np.kron(n,n))),\n",
    "        np.matmul(Pi_2, np.matmul(M, np.kron(n,s))),\n",
    "        np.matmul(Pi_2, np.matmul(M, np.kron(s,n))),\n",
    "        np.matmul(Pi_2, np.matmul(M, np.kron(s,s)))]\n",
    "\n",
    "pd.DataFrame({\"$x_1$\" : [\"$n$\", \"$n$\", \"$s$\", \"$s$\"], \"$x_2$\" : [\"$n$\", \"$s$\", \"$n$\", \"$s$\"], r\"$x_1 \\otimes x_2$\" : op_1, r\"$M[x_1 \\otimes x_2]$\" : op_2, r\"$\\Pi_{2}M[x_1 \\otimes x_2]$\" : op_3})\n"
   ]
  },
  {
   "cell_type": "markdown",
   "metadata": {},
   "source": []
  },
  {
   "cell_type": "code",
   "execution_count": 23,
   "metadata": {},
   "outputs": [
    {
     "data": {
      "text/html": [
       "<div>\n",
       "<style scoped>\n",
       "    .dataframe tbody tr th:only-of-type {\n",
       "        vertical-align: middle;\n",
       "    }\n",
       "\n",
       "    .dataframe tbody tr th {\n",
       "        vertical-align: top;\n",
       "    }\n",
       "\n",
       "    .dataframe thead th {\n",
       "        text-align: right;\n",
       "    }\n",
       "</style>\n",
       "<table border=\"1\" class=\"dataframe\">\n",
       "  <thead>\n",
       "    <tr style=\"text-align: right;\">\n",
       "      <th></th>\n",
       "      <th>$x_1$</th>\n",
       "      <th>$x_2$</th>\n",
       "      <th>$x_1 \\otimes x_2$</th>\n",
       "      <th>$M[x_1 \\otimes x_2]$</th>\n",
       "      <th>$\\Pi_{1}M[x_1 \\otimes x_2]$</th>\n",
       "    </tr>\n",
       "  </thead>\n",
       "  <tbody>\n",
       "    <tr>\n",
       "      <th>0</th>\n",
       "      <td>$n$</td>\n",
       "      <td>$n$</td>\n",
       "      <td>[1, 0, 0, 0]</td>\n",
       "      <td>[1, 0, 0, 0]</td>\n",
       "      <td>[1, 0]</td>\n",
       "    </tr>\n",
       "    <tr>\n",
       "      <th>1</th>\n",
       "      <td>$n$</td>\n",
       "      <td>$s$</td>\n",
       "      <td>[0, 1, 0, 0]</td>\n",
       "      <td>[0, 1, 0, 0]</td>\n",
       "      <td>[1, 0]</td>\n",
       "    </tr>\n",
       "    <tr>\n",
       "      <th>2</th>\n",
       "      <td>$s$</td>\n",
       "      <td>$n$</td>\n",
       "      <td>[0, 0, 1, 0]</td>\n",
       "      <td>[0, 0, 0, 1]</td>\n",
       "      <td>[0, 1]</td>\n",
       "    </tr>\n",
       "    <tr>\n",
       "      <th>3</th>\n",
       "      <td>$s$</td>\n",
       "      <td>$s$</td>\n",
       "      <td>[0, 0, 0, 1]</td>\n",
       "      <td>[0, 0, 1, 0]</td>\n",
       "      <td>[0, 1]</td>\n",
       "    </tr>\n",
       "  </tbody>\n",
       "</table>\n",
       "</div>"
      ],
      "text/plain": [
       "  $x_1$ $x_2$ $x_1 \\otimes x_2$ $M[x_1 \\otimes x_2]$  \\\n",
       "0   $n$   $n$      [1, 0, 0, 0]         [1, 0, 0, 0]   \n",
       "1   $n$   $s$      [0, 1, 0, 0]         [0, 1, 0, 0]   \n",
       "2   $s$   $n$      [0, 0, 1, 0]         [0, 0, 0, 1]   \n",
       "3   $s$   $s$      [0, 0, 0, 1]         [0, 0, 1, 0]   \n",
       "\n",
       "  $\\Pi_{1}M[x_1 \\otimes x_2]$  \n",
       "0                      [1, 0]  \n",
       "1                      [1, 0]  \n",
       "2                      [0, 1]  \n",
       "3                      [0, 1]  "
      ]
     },
     "execution_count": 23,
     "metadata": {},
     "output_type": "execute_result"
    }
   ],
   "source": [
    "Pi_1 = np.kron(I, (n + s).T)\n",
    "\n",
    "op_1 = [np.kron(n,n), np.kron(n,s), np.kron(s,n), np.kron(s,s)]\n",
    "op_2 = [np.matmul(M, np.kron(n,n)), np.matmul(M, np.kron(n,s)), np.matmul(M, np.kron(s,n)), np.matmul(M, np.kron(s,s))]\n",
    "op_3 = [np.matmul(Pi_1, np.matmul(M, np.kron(n,n))), np.matmul(Pi_1, np.matmul(M, np.kron(n,s))), np.matmul(Pi_1, np.matmul(M, np.kron(s,n))), np.matmul(Pi_1, np.matmul(M, np.kron(s,s)))]\n",
    "\n",
    "#  pd.DataFrame({\"x_1\" : [\"n\", \"n\", \"s\", \"s\"], \"x_s\" : [\"n\", \"s\", \"n\", \"s\"], \"op_1\" : op_1, \"op_2\" : op_2, \"op_3\" : op_3})\n",
    "pd.DataFrame({\"$x_1$\" : [\"$n$\", \"$n$\", \"$s$\", \"$s$\"], \"$x_2$\" : [\"$n$\", \"$s$\", \"$n$\", \"$s$\"], r\"$x_1 \\otimes x_2$\" : op_1, r\"$M[x_1 \\otimes x_2]$\" : op_2, r\"$\\Pi_{1}M[x_1 \\otimes x_2]$\" : op_3})\n",
    "\n"
   ]
  }
 ],
 "metadata": {
  "kernelspec": {
   "display_name": "Python 3 (ipykernel)",
   "language": "python",
   "name": "python3"
  },
  "language_info": {
   "codemirror_mode": {
    "name": "ipython",
    "version": 3
   },
   "file_extension": ".py",
   "mimetype": "text/x-python",
   "name": "python",
   "nbconvert_exporter": "python",
   "pygments_lexer": "ipython3",
   "version": "3.12.7"
  }
 },
 "nbformat": 4,
 "nbformat_minor": 4
}
