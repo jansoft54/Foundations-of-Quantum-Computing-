{
 "cells": [
  {
   "cell_type": "markdown",
   "metadata": {},
   "source": [
    "### task 4.4 complex numbers as matrices\n",
    "\n",
    "#### 4.4 a)"
   ]
  },
  {
   "cell_type": "code",
   "execution_count": 4,
   "metadata": {},
   "outputs": [
    {
     "name": "stdout",
     "output_type": "stream",
     "text": [
      "c1 + c2 = (5+2j)\n",
      "c1 * c2 = (14+2j)\n",
      "c1* = (3-4j)\n",
      "|c1| = 5.0\n"
     ]
    }
   ],
   "source": [
    "import numpy as np\n",
    "\n",
    "c1 = 3 + 4j\n",
    "c2 = 2 - 2j\n",
    "\n",
    "print(\"c1 + c2 = \" + str(c1 + c2))\n",
    "print(\"c1 * c2 = \" + str(c1 * c2))\n",
    "print(\"c1* = \" +  str(c1.conjugate()))\n",
    "print(\"|c1| = \" + str(np.abs(c1)))\n"
   ]
  },
  {
   "cell_type": "markdown",
   "metadata": {},
   "source": [
    "#### 4.4 b)"
   ]
  },
  {
   "cell_type": "code",
   "execution_count": 14,
   "metadata": {},
   "outputs": [
    {
     "name": "stdout",
     "output_type": "stream",
     "text": [
      "1 = \n",
      "[[1 0]\n",
      " [0 1]]\n",
      "i = \n",
      "[[ 0 -1]\n",
      " [ 1  0]]\n",
      "c1 = \n",
      "[[ 3. -4.]\n",
      " [ 4.  3.]]\n",
      "c2 = \n",
      "[[ 2.  2.]\n",
      " [-2.  2.]]\n",
      "c1 + c2 = \n",
      "[[ 5. -2.]\n",
      " [ 2.  5.]]\n",
      "c1 * c2 = \n",
      "[[14. -2.]\n",
      " [ 2. 14.]]\n",
      "c1^T = \n",
      "[[ 3.  4.]\n",
      " [-4.  3.]]\n",
      "sqrt(det(c1)) = \n",
      "5.000000000000001\n"
     ]
    }
   ],
   "source": [
    "mat_1 = np.array([[1, 0], [0, 1]])\n",
    "mat_i = np.array([[0, -1], [1, 0]])\n",
    "mat_c1 = c1.real * mat_1 + c1.imag * mat_i\n",
    "mat_c2 = c2.real * mat_1 + c2.imag * mat_i\n",
    "\n",
    "print(\"1 = \")\n",
    "print(str(mat_1))\n",
    "print(\"i = \" )\n",
    "print( str(mat_i))\n",
    "print(\"c1 = \" )\n",
    "print( str(mat_c1))\n",
    "print(\"c2 = \" )\n",
    "print( str(mat_c2))\n",
    "print(\"c1 + c2 = \" )\n",
    "print( str(mat_c1 + mat_c2))\n",
    "print(\"c1 * c2 = \" )\n",
    "print( str(np.matmul(mat_c1, mat_c2)))\n",
    "print(\"c1^T = \" )\n",
    "print( str(mat_c1.T))\n",
    "print(\"sqrt(det(c1)) = \" )\n",
    "print( str(np.sqrt(np.linalg.det(mat_c1))))"
   ]
  },
  {
   "cell_type": "markdown",
   "metadata": {},
   "source": [
    "The results of matrix addition, multiplication, transposition and the square root of the determinant correspond to the results of complex addition, multiplication, conjugation and taking the absolute value, respectively."
   ]
  },
  {
   "cell_type": "markdown",
   "metadata": {},
   "source": [
    "### 4.6\n",
    "#### 4.6 a) "
   ]
  },
  {
   "cell_type": "code",
   "execution_count": 13,
   "metadata": {},
   "outputs": [
    {
     "name": "stdout",
     "output_type": "stream",
     "text": [
      "1 = \n",
      "[[1 0 0 0]\n",
      " [0 1 0 0]\n",
      " [0 0 1 0]\n",
      " [0 0 0 1]]\n",
      "i = \n",
      "[[ 0 -1  0  0]\n",
      " [ 1  0  0  0]\n",
      " [ 0  0  0 -1]\n",
      " [ 0  0  1  0]]\n",
      "j = \n",
      "[[ 0  0 -1  0]\n",
      " [ 0  0  0  1]\n",
      " [ 1  0  0  0]\n",
      " [ 0 -1  0  0]]\n",
      "k = \n",
      "[[ 0  0  0 -1]\n",
      " [ 0  0 -1  0]\n",
      " [ 0  1  0  0]\n",
      " [ 1  0  0  0]]\n",
      "ijk = \n",
      "[[-1  0  0  0]\n",
      " [ 0 -1  0  0]\n",
      " [ 0  0 -1  0]\n",
      " [ 0  0  0 -1]]\n"
     ]
    }
   ],
   "source": [
    "import numpy as np\n",
    "\n",
    "mat_1 = np.array([[1, 0, 0, 0],\n",
    "                  [0, 1, 0, 0],\n",
    "                  [0, 0, 1, 0],\n",
    "                  [0, 0, 0, 1]])\n",
    "\n",
    "mat_i = np.array([[0, -1, 0, 0],\n",
    "                  [1, 0, 0, 0],\n",
    "                  [0, 0, 0, -1],\n",
    "                  [0, 0, 1, 0]])\n",
    "\n",
    "mat_j = np.array([[0, 0, -1, 0],\n",
    "                  [0, 0, 0, 1],\n",
    "                  [1, 0, 0, 0],\n",
    "                  [0, -1, 0, 0]])\n",
    "\n",
    "mat_k = np.array([[0, 0, 0, -1],\n",
    "                  [0, 0, -1, 0],\n",
    "                  [0, 1, 0, 0],\n",
    "                  [1, 0, 0, 0]])\n",
    "\n",
    "print(\"1 = \")\n",
    "print(mat_1)\n",
    "print(\"i = \")\n",
    "print(mat_i)\n",
    "print(\"j = \")\n",
    "print(mat_j)\n",
    "print(\"k = \")\n",
    "print(mat_k)\n",
    "\n",
    "ijk = np.matmul(np.matmul(mat_i, mat_j), mat_k)\n",
    "print(\"ijk = \")\n",
    "print(ijk)"
   ]
  },
  {
   "cell_type": "markdown",
   "metadata": {},
   "source": [
    "The result of $ijk$ is $-I_4$ which corresponds to -1 which fulfills the quaternion multiplication rule for $ijk$.\n",
    "\n",
    "#### 4.6 b)"
   ]
  },
  {
   "cell_type": "code",
   "execution_count": 16,
   "metadata": {},
   "outputs": [
    {
     "name": "stdout",
     "output_type": "stream",
     "text": [
      "1 = \n",
      "[[1 0]\n",
      " [0 1]]\n",
      "i = \n",
      "[[ 0.+1.j  0.+0.j]\n",
      " [ 0.+0.j -0.-1.j]]\n",
      "j = \n",
      "[[ 0  1]\n",
      " [-1  0]]\n",
      "k = \n",
      "[[0.+0.j 0.+1.j]\n",
      " [0.+1.j 0.+0.j]]\n",
      "ijk = \n",
      "[[-1.+0.j  0.+0.j]\n",
      " [ 0.+0.j -1.+0.j]]\n"
     ]
    }
   ],
   "source": [
    "import numpy as np\n",
    "\n",
    "mat_1 = np.array([[1, 0], [0, 1]])\n",
    "mat_i = np.array([[1j, 0], [0, -1j]])\n",
    "mat_j = np.array([[0, 1], [-1, 0]])\n",
    "mat_k = np.array([[0, 1j], [1j, 0]])\n",
    "\n",
    "ijk = np.matmul(np.matmul(mat_i, mat_j), mat_k)\n",
    "\n",
    "print(\"1 = \")\n",
    "print(mat_1)\n",
    "print(\"i = \")\n",
    "print(mat_i)\n",
    "print(\"j = \")\n",
    "print(mat_j)\n",
    "print(\"k = \")\n",
    "print(mat_k)\n",
    "print(\"ijk = \")\n",
    "print(ijk)"
   ]
  },
  {
   "cell_type": "markdown",
   "metadata": {},
   "source": [
    "The result of $ijk$ is $-I_2$ which corresponds to -1 which fulfills the quaternion multiplication rule for $ijk$."
   ]
  },
  {
   "cell_type": "code",
   "execution_count": 18,
   "metadata": {},
   "outputs": [
    {
     "data": {
      "text/plain": [
       "(['1', '-1', 'i', '-i', 'j', '-j', 'k', '-k'],\n",
       " [['1', '-1', 'i', '-i', 'j', '-j', 'k', '-k'],\n",
       "  ['-1', '1', '-i', 'i', '-j', 'j', '-k', 'k'],\n",
       "  ['i', '-i', '-1', '1', 'k', '-k', '-j', 'j'],\n",
       "  ['-i', 'i', '1', '-1', '-k', 'k', 'j', '-j'],\n",
       "  ['j', '-j', '-k', 'k', '-1', '1', 'i', '-i'],\n",
       "  ['-j', 'j', 'k', '-k', '1', '-1', '-i', 'i'],\n",
       "  ['k', '-k', 'j', '-j', '-i', 'i', '-1', '1'],\n",
       "  ['-k', 'k', '-j', 'j', 'i', '-i', '1', '-1']])"
      ]
     },
     "execution_count": 18,
     "metadata": {},
     "output_type": "execute_result"
    }
   ],
   "source": [
    "# Define the complete set of quaternion elements as 2x2 complex matrices\n",
    "quaternion_set = {\n",
    "    \"1\": mat_1,\n",
    "    \"-1\": -mat_1,\n",
    "    \"i\": mat_i,\n",
    "    \"-i\": -mat_i,\n",
    "    \"j\": mat_j,\n",
    "    \"-j\": -mat_j,\n",
    "    \"k\": mat_k,\n",
    "    \"-k\": -mat_k,\n",
    "}\n",
    "\n",
    "# List of quaternion labels\n",
    "labels = list(quaternion_set.keys())\n",
    "\n",
    "# Initialize an empty result table\n",
    "cayley_table = []\n",
    "\n",
    "# Compute the Cayley table by pairwise multiplication\n",
    "for row_label in labels:\n",
    "    row = []\n",
    "    for col_label in labels:\n",
    "        # Multiply the corresponding matrices\n",
    "        result = np.dot(quaternion_set[row_label], quaternion_set[col_label])\n",
    "        # Match the result to a quaternion symbol in the set\n",
    "        for key, value in quaternion_set.items():\n",
    "            if np.allclose(result, value):  # Check matrix equality\n",
    "                row.append(key)\n",
    "                break\n",
    "    cayley_table.append(row)\n",
    "\n",
    "# Display the Cayley table\n",
    "labels, cayley_table\n"
   ]
  },
  {
   "cell_type": "markdown",
   "metadata": {},
   "source": [
    "$Q_8$ does not seem to be an Abelian Group because the Cayley table is not symmetric."
   ]
  }
 ],
 "metadata": {
  "kernelspec": {
   "display_name": "Python 3",
   "language": "python",
   "name": "python3"
  },
  "language_info": {
   "codemirror_mode": {
    "name": "ipython",
    "version": 3
   },
   "file_extension": ".py",
   "mimetype": "text/x-python",
   "name": "python",
   "nbconvert_exporter": "python",
   "pygments_lexer": "ipython3",
   "version": "3.10.8"
  }
 },
 "nbformat": 4,
 "nbformat_minor": 2
}
