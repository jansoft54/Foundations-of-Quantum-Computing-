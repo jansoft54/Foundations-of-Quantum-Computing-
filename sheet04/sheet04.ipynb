{
 "cells": [
  {
   "cell_type": "markdown",
   "metadata": {},
   "source": [
    "### task 4.4 complex numbers as matrices\n",
    "\n",
    "#### 4.4 a)"
   ]
  },
  {
   "cell_type": "code",
   "execution_count": 4,
   "metadata": {},
   "outputs": [
    {
     "name": "stdout",
     "output_type": "stream",
     "text": [
      "c1 + c2 = (5+2j)\n",
      "c1 * c2 = (14+2j)\n",
      "c1* = (3-4j)\n",
      "|c1| = 5.0\n"
     ]
    }
   ],
   "source": [
    "import numpy as np\n",
    "\n",
    "c1 = 3 + 4j\n",
    "c2 = 2 - 2j\n",
    "\n",
    "print(\"c1 + c2 = \" + str(c1 + c2))\n",
    "print(\"c1 * c2 = \" + str(c1 * c2))\n",
    "print(\"c1* = \" +  str(c1.conjugate()))\n",
    "print(\"|c1| = \" + str(np.abs(c1)))\n"
   ]
  },
  {
   "cell_type": "markdown",
   "metadata": {},
   "source": [
    "#### 4.4 b)"
   ]
  },
  {
   "cell_type": "code",
   "execution_count": 9,
   "metadata": {},
   "outputs": [
    {
     "name": "stdout",
     "output_type": "stream",
     "text": [
      "1 = [[1 0]\n",
      " [0 1]]\n",
      "i = [[ 0 -1]\n",
      " [ 1  0]]\n",
      "c1 = [[ 3. -4.]\n",
      " [ 4.  3.]]\n",
      "c2 = [[ 2.  2.]\n",
      " [-2.  2.]]\n",
      "c1 + c2 = [[ 5. -2.]\n",
      " [ 2.  5.]]\n",
      "c1 * c2 = [[14. -2.]\n",
      " [ 2. 14.]]\n",
      "c1^T = [[ 3.  4.]\n",
      " [-4.  3.]]\n",
      "sqrt(det(c1)) = 5.000000000000001\n"
     ]
    }
   ],
   "source": [
    "mat_1 = np.array([[1, 0], [0, 1]])\n",
    "mat_i = np.array([[0, -1], [1, 0]])\n",
    "mat_c1 = c1.real * mat_1 + c1.imag * mat_i\n",
    "mat_c2 = c2.real * mat_1 + c2.imag * mat_i\n",
    "\n",
    "print(\"1 = \" + str(mat_1))\n",
    "print(\"i = \" + str(mat_i))\n",
    "print(\"c1 = \" + str(mat_c1))\n",
    "print(\"c2 = \" + str(mat_c2))\n",
    "print(\"c1 + c2 = \" + str(mat_c1 + mat_c2))\n",
    "print(\"c1 * c2 = \" + str(np.matmul(mat_c1, mat_c2)))\n",
    "print(\"c1^T = \" + str(mat_c1.T))\n",
    "print(\"sqrt(det(c1)) = \" + str(np.sqrt(np.linalg.det(mat_c1))))"
   ]
  },
  {
   "cell_type": "markdown",
   "metadata": {},
   "source": [
    "The results of matrix addition, multiplication, transposition and the square root of the determinant correspond to the results of complex addition, multiplication, conjugation and taking the absolute value, respectively."
   ]
  }
 ],
 "metadata": {
  "kernelspec": {
   "display_name": "Python 3",
   "language": "python",
   "name": "python3"
  },
  "language_info": {
   "codemirror_mode": {
    "name": "ipython",
    "version": 3
   },
   "file_extension": ".py",
   "mimetype": "text/x-python",
   "name": "python",
   "nbconvert_exporter": "python",
   "pygments_lexer": "ipython3",
   "version": "3.10.8"
  }
 },
 "nbformat": 4,
 "nbformat_minor": 2
}
